{
 "metadata": {
  "language_info": {
   "codemirror_mode": {
    "name": "ipython",
    "version": 3
   },
   "file_extension": ".py",
   "mimetype": "text/x-python",
   "name": "python",
   "nbconvert_exporter": "python",
   "pygments_lexer": "ipython3",
   "version": "3.8.3-final"
  },
  "orig_nbformat": 2,
  "kernelspec": {
   "name": "python3",
   "display_name": "Python 3.8.3 64-bit ('predicting_disease_outbreaks')",
   "metadata": {
    "interpreter": {
     "hash": "281cafe95e074e187f71045f1ef55ab701fa114b3c41f1791da883c854385428"
    }
   }
  }
 },
 "nbformat": 4,
 "nbformat_minor": 2,
 "cells": [
  {
   "source": [
    "# Predicting Disease Outbreaks Milestone 1\n",
    "## This module loads and inspects data from the John Hopkins COVID-19 data.\n",
    "### Specifically, the following data is loaded:\n",
    "- Global aggregates of confirmed, recovered, and death cases\n",
    "- Global time series of confirmed cases\n",
    "- Global time series of death cases\n",
    "- Global time series of recovered cases\n",
    "- US time series of confirmed cases\n",
    "- US time series of death cases"
   ],
   "cell_type": "markdown",
   "metadata": {}
  },
  {
   "cell_type": "code",
   "execution_count": 1,
   "metadata": {},
   "outputs": [],
   "source": [
    "# import helper functions\n",
    "import utils\n",
    "\n",
    "# load data\n",
    "global_aggregates = utils.load_global_aggregates()\n",
    "global_confirmed = utils.load_global_confirmed()\n",
    "global_death = utils.load_global_death()\n",
    "global_recovered = utils.load_global_recovered()\n",
    "us_confirmed = utils.load_us_confirmed()\n",
    "us_death = utils.load_us_death()"
   ]
  },
  {
   "source": [
    "## Global Aggregates\n",
    "### The following shows the first 5 entries of the global aggregates dataframe, info about the global aggregates dataframe, and summary statistics of the global aggregates dataframe"
   ],
   "cell_type": "markdown",
   "metadata": {}
  },
  {
   "cell_type": "code",
   "execution_count": 2,
   "metadata": {},
   "outputs": [
    {
     "output_type": "stream",
     "name": "stdout",
     "text": [
      "Head of global aggregates:\n"
     ]
    },
    {
     "output_type": "execute_result",
     "data": {
      "text/plain": [
       "  Country_Region          Last_Update       Lat      Long_  Confirmed  Deaths  \\\n",
       "0    Afghanistan  2021-04-04 02:20:56  33.93911  67.709953    56595.0  2496.0   \n",
       "1        Albania  2021-04-04 02:20:56  41.15330  20.168300   126183.0  2256.0   \n",
       "2        Algeria  2021-04-04 02:20:56  28.03390   1.659600   117524.0  3102.0   \n",
       "3        Andorra  2021-04-04 02:20:56  42.50630   1.521800    12174.0   117.0   \n",
       "4         Angola  2021-04-04 02:20:56 -11.20270  17.873900    22579.0   540.0   \n",
       "\n",
       "   Recovered   Active  Incident_Rate  People_Tested  People_Hospitalized  \\\n",
       "0    51802.0   2297.0     145.382512            NaN                  NaN   \n",
       "1    93173.0  30754.0    4384.703593            NaN                  NaN   \n",
       "2    81813.0  32609.0     268.007308            NaN                  NaN   \n",
       "3    11428.0    629.0   15756.163852            NaN                  NaN   \n",
       "4    20871.0   1168.0      68.699616            NaN                  NaN   \n",
       "\n",
       "   Mortality_Rate  UID ISO3  \n",
       "0        4.410284    4  AFG  \n",
       "1        1.787880    8  ALB  \n",
       "2        2.639461   12  DZA  \n",
       "3        0.961065   20  AND  \n",
       "4        2.391603   24  AGO  "
      ],
      "text/html": "<div>\n<style scoped>\n    .dataframe tbody tr th:only-of-type {\n        vertical-align: middle;\n    }\n\n    .dataframe tbody tr th {\n        vertical-align: top;\n    }\n\n    .dataframe thead th {\n        text-align: right;\n    }\n</style>\n<table border=\"1\" class=\"dataframe\">\n  <thead>\n    <tr style=\"text-align: right;\">\n      <th></th>\n      <th>Country_Region</th>\n      <th>Last_Update</th>\n      <th>Lat</th>\n      <th>Long_</th>\n      <th>Confirmed</th>\n      <th>Deaths</th>\n      <th>Recovered</th>\n      <th>Active</th>\n      <th>Incident_Rate</th>\n      <th>People_Tested</th>\n      <th>People_Hospitalized</th>\n      <th>Mortality_Rate</th>\n      <th>UID</th>\n      <th>ISO3</th>\n    </tr>\n  </thead>\n  <tbody>\n    <tr>\n      <th>0</th>\n      <td>Afghanistan</td>\n      <td>2021-04-04 02:20:56</td>\n      <td>33.93911</td>\n      <td>67.709953</td>\n      <td>56595.0</td>\n      <td>2496.0</td>\n      <td>51802.0</td>\n      <td>2297.0</td>\n      <td>145.382512</td>\n      <td>NaN</td>\n      <td>NaN</td>\n      <td>4.410284</td>\n      <td>4</td>\n      <td>AFG</td>\n    </tr>\n    <tr>\n      <th>1</th>\n      <td>Albania</td>\n      <td>2021-04-04 02:20:56</td>\n      <td>41.15330</td>\n      <td>20.168300</td>\n      <td>126183.0</td>\n      <td>2256.0</td>\n      <td>93173.0</td>\n      <td>30754.0</td>\n      <td>4384.703593</td>\n      <td>NaN</td>\n      <td>NaN</td>\n      <td>1.787880</td>\n      <td>8</td>\n      <td>ALB</td>\n    </tr>\n    <tr>\n      <th>2</th>\n      <td>Algeria</td>\n      <td>2021-04-04 02:20:56</td>\n      <td>28.03390</td>\n      <td>1.659600</td>\n      <td>117524.0</td>\n      <td>3102.0</td>\n      <td>81813.0</td>\n      <td>32609.0</td>\n      <td>268.007308</td>\n      <td>NaN</td>\n      <td>NaN</td>\n      <td>2.639461</td>\n      <td>12</td>\n      <td>DZA</td>\n    </tr>\n    <tr>\n      <th>3</th>\n      <td>Andorra</td>\n      <td>2021-04-04 02:20:56</td>\n      <td>42.50630</td>\n      <td>1.521800</td>\n      <td>12174.0</td>\n      <td>117.0</td>\n      <td>11428.0</td>\n      <td>629.0</td>\n      <td>15756.163852</td>\n      <td>NaN</td>\n      <td>NaN</td>\n      <td>0.961065</td>\n      <td>20</td>\n      <td>AND</td>\n    </tr>\n    <tr>\n      <th>4</th>\n      <td>Angola</td>\n      <td>2021-04-04 02:20:56</td>\n      <td>-11.20270</td>\n      <td>17.873900</td>\n      <td>22579.0</td>\n      <td>540.0</td>\n      <td>20871.0</td>\n      <td>1168.0</td>\n      <td>68.699616</td>\n      <td>NaN</td>\n      <td>NaN</td>\n      <td>2.391603</td>\n      <td>24</td>\n      <td>AGO</td>\n    </tr>\n  </tbody>\n</table>\n</div>"
     },
     "metadata": {},
     "execution_count": 2
    }
   ],
   "source": [
    "print(\"Head of global aggregates:\")\n",
    "global_aggregates.head()"
   ]
  },
  {
   "cell_type": "code",
   "execution_count": 3,
   "metadata": {},
   "outputs": [
    {
     "output_type": "stream",
     "name": "stdout",
     "text": [
      "Info about global aggregates dataframe:\n<class 'pandas.core.frame.DataFrame'>\nRangeIndex: 192 entries, 0 to 191\nData columns (total 14 columns):\n #   Column               Non-Null Count  Dtype  \n---  ------               --------------  -----  \n 0   Country_Region       192 non-null    object \n 1   Last_Update          192 non-null    object \n 2   Lat                  190 non-null    float64\n 3   Long_                190 non-null    float64\n 4   Confirmed            192 non-null    float64\n 5   Deaths               192 non-null    float64\n 6   Recovered            188 non-null    float64\n 7   Active               191 non-null    float64\n 8   Incident_Rate        190 non-null    float64\n 9   People_Tested        0 non-null      float64\n 10  People_Hospitalized  0 non-null      float64\n 11  Mortality_Rate       192 non-null    float64\n 12  UID                  192 non-null    int64  \n 13  ISO3                 190 non-null    object \ndtypes: float64(10), int64(1), object(3)\nmemory usage: 21.1+ KB\n"
     ]
    }
   ],
   "source": [
    "print(\"Info about global aggregates dataframe:\")\n",
    "global_aggregates.info()"
   ]
  },
  {
   "cell_type": "code",
   "execution_count": 4,
   "metadata": {},
   "outputs": [
    {
     "output_type": "stream",
     "name": "stdout",
     "text": [
      "Statistics for global aggregates:\n"
     ]
    },
    {
     "output_type": "execute_result",
     "data": {
      "text/plain": [
       "          Confirmed         Deaths     Recovered        Active  Incident_Rate  \\\n",
       "count  1.920000e+02     192.000000  1.880000e+02  1.910000e+02     190.000000   \n",
       "mean   6.805179e+05   14817.770833  3.938810e+05  1.238137e+05    2728.651263   \n",
       "std    2.643270e+06   52818.246034  1.295602e+06  5.167659e+05    3280.752793   \n",
       "min    1.000000e+00       0.000000  1.000000e+00  0.000000e+00       0.673488   \n",
       "25%    8.415750e+03     111.500000  5.305750e+03  3.875000e+02     158.326374   \n",
       "50%    8.126450e+04     997.500000  4.890100e+04  5.409000e+03    1344.383104   \n",
       "75%    3.078798e+05    6271.750000  2.222112e+05  3.358550e+04    4807.794761   \n",
       "max    3.067107e+07  554779.000000  1.156924e+07  4.401462e+06   15756.163852   \n",
       "\n",
       "       People_Tested  People_Hospitalized  Mortality_Rate  \n",
       "count            0.0                  0.0      192.000000  \n",
       "mean             NaN                  NaN        2.044304  \n",
       "std              NaN                  NaN        2.380024  \n",
       "min              NaN                  NaN        0.000000  \n",
       "25%              NaN                  NaN        0.960684  \n",
       "50%              NaN                  NaN        1.661690  \n",
       "75%              NaN                  NaN        2.515739  \n",
       "max              NaN                  NaN       22.222222  "
      ],
      "text/html": "<div>\n<style scoped>\n    .dataframe tbody tr th:only-of-type {\n        vertical-align: middle;\n    }\n\n    .dataframe tbody tr th {\n        vertical-align: top;\n    }\n\n    .dataframe thead th {\n        text-align: right;\n    }\n</style>\n<table border=\"1\" class=\"dataframe\">\n  <thead>\n    <tr style=\"text-align: right;\">\n      <th></th>\n      <th>Confirmed</th>\n      <th>Deaths</th>\n      <th>Recovered</th>\n      <th>Active</th>\n      <th>Incident_Rate</th>\n      <th>People_Tested</th>\n      <th>People_Hospitalized</th>\n      <th>Mortality_Rate</th>\n    </tr>\n  </thead>\n  <tbody>\n    <tr>\n      <th>count</th>\n      <td>1.920000e+02</td>\n      <td>192.000000</td>\n      <td>1.880000e+02</td>\n      <td>1.910000e+02</td>\n      <td>190.000000</td>\n      <td>0.0</td>\n      <td>0.0</td>\n      <td>192.000000</td>\n    </tr>\n    <tr>\n      <th>mean</th>\n      <td>6.805179e+05</td>\n      <td>14817.770833</td>\n      <td>3.938810e+05</td>\n      <td>1.238137e+05</td>\n      <td>2728.651263</td>\n      <td>NaN</td>\n      <td>NaN</td>\n      <td>2.044304</td>\n    </tr>\n    <tr>\n      <th>std</th>\n      <td>2.643270e+06</td>\n      <td>52818.246034</td>\n      <td>1.295602e+06</td>\n      <td>5.167659e+05</td>\n      <td>3280.752793</td>\n      <td>NaN</td>\n      <td>NaN</td>\n      <td>2.380024</td>\n    </tr>\n    <tr>\n      <th>min</th>\n      <td>1.000000e+00</td>\n      <td>0.000000</td>\n      <td>1.000000e+00</td>\n      <td>0.000000e+00</td>\n      <td>0.673488</td>\n      <td>NaN</td>\n      <td>NaN</td>\n      <td>0.000000</td>\n    </tr>\n    <tr>\n      <th>25%</th>\n      <td>8.415750e+03</td>\n      <td>111.500000</td>\n      <td>5.305750e+03</td>\n      <td>3.875000e+02</td>\n      <td>158.326374</td>\n      <td>NaN</td>\n      <td>NaN</td>\n      <td>0.960684</td>\n    </tr>\n    <tr>\n      <th>50%</th>\n      <td>8.126450e+04</td>\n      <td>997.500000</td>\n      <td>4.890100e+04</td>\n      <td>5.409000e+03</td>\n      <td>1344.383104</td>\n      <td>NaN</td>\n      <td>NaN</td>\n      <td>1.661690</td>\n    </tr>\n    <tr>\n      <th>75%</th>\n      <td>3.078798e+05</td>\n      <td>6271.750000</td>\n      <td>2.222112e+05</td>\n      <td>3.358550e+04</td>\n      <td>4807.794761</td>\n      <td>NaN</td>\n      <td>NaN</td>\n      <td>2.515739</td>\n    </tr>\n    <tr>\n      <th>max</th>\n      <td>3.067107e+07</td>\n      <td>554779.000000</td>\n      <td>1.156924e+07</td>\n      <td>4.401462e+06</td>\n      <td>15756.163852</td>\n      <td>NaN</td>\n      <td>NaN</td>\n      <td>22.222222</td>\n    </tr>\n  </tbody>\n</table>\n</div>"
     },
     "metadata": {},
     "execution_count": 4
    }
   ],
   "source": [
    "print(\"Statistics for global aggregates:\")\n",
    "global_aggregates.drop(['Lat', 'Long_', 'UID'], axis=1).describe()"
   ]
  },
  {
   "source": [
    "## Global Confirmed Cases\n",
    "### The following shows the first 5 entries of the global confirmed cases dataframe, info about the global confirmed cases dataframe, and summary statistics of the global confirmed cases dataframe"
   ],
   "cell_type": "markdown",
   "metadata": {}
  },
  {
   "cell_type": "code",
   "execution_count": 5,
   "metadata": {},
   "outputs": [
    {
     "output_type": "stream",
     "name": "stdout",
     "text": [
      "Head of global confirmed cases:\n"
     ]
    },
    {
     "output_type": "execute_result",
     "data": {
      "text/plain": [
       "  Province/State Country/Region       Lat       Long  1/22/20  1/23/20  \\\n",
       "0            NaN    Afghanistan  33.93911  67.709953        0        0   \n",
       "1            NaN        Albania  41.15330  20.168300        0        0   \n",
       "2            NaN        Algeria  28.03390   1.659600        0        0   \n",
       "3            NaN        Andorra  42.50630   1.521800        0        0   \n",
       "4            NaN         Angola -11.20270  17.873900        0        0   \n",
       "\n",
       "   1/24/20  1/25/20  1/26/20  1/27/20  ...  3/24/21  3/25/21  3/26/21  \\\n",
       "0        0        0        0        0  ...    56192    56226    56254   \n",
       "1        0        0        0        0  ...   122295   122767   123216   \n",
       "2        0        0        0        0  ...   116438   116543   116657   \n",
       "3        0        0        0        0  ...    11638    11687    11732   \n",
       "4        0        0        0        0  ...    21836    21914    21961   \n",
       "\n",
       "   3/27/21  3/28/21  3/29/21  3/30/21  3/31/21  4/1/21  4/2/21  \n",
       "0    56290    56294    56322    56384    56454   56517   56572  \n",
       "1   123641   124134   124419   124723   125157  125506  125842  \n",
       "2   116750   116836   116946   117061   117192  117304  117429  \n",
       "3    11809    11850    11888    11944    12010   12053   12115  \n",
       "4    22031    22063    22132    22182    22311   22399   22467  \n",
       "\n",
       "[5 rows x 441 columns]"
      ],
      "text/html": "<div>\n<style scoped>\n    .dataframe tbody tr th:only-of-type {\n        vertical-align: middle;\n    }\n\n    .dataframe tbody tr th {\n        vertical-align: top;\n    }\n\n    .dataframe thead th {\n        text-align: right;\n    }\n</style>\n<table border=\"1\" class=\"dataframe\">\n  <thead>\n    <tr style=\"text-align: right;\">\n      <th></th>\n      <th>Province/State</th>\n      <th>Country/Region</th>\n      <th>Lat</th>\n      <th>Long</th>\n      <th>1/22/20</th>\n      <th>1/23/20</th>\n      <th>1/24/20</th>\n      <th>1/25/20</th>\n      <th>1/26/20</th>\n      <th>1/27/20</th>\n      <th>...</th>\n      <th>3/24/21</th>\n      <th>3/25/21</th>\n      <th>3/26/21</th>\n      <th>3/27/21</th>\n      <th>3/28/21</th>\n      <th>3/29/21</th>\n      <th>3/30/21</th>\n      <th>3/31/21</th>\n      <th>4/1/21</th>\n      <th>4/2/21</th>\n    </tr>\n  </thead>\n  <tbody>\n    <tr>\n      <th>0</th>\n      <td>NaN</td>\n      <td>Afghanistan</td>\n      <td>33.93911</td>\n      <td>67.709953</td>\n      <td>0</td>\n      <td>0</td>\n      <td>0</td>\n      <td>0</td>\n      <td>0</td>\n      <td>0</td>\n      <td>...</td>\n      <td>56192</td>\n      <td>56226</td>\n      <td>56254</td>\n      <td>56290</td>\n      <td>56294</td>\n      <td>56322</td>\n      <td>56384</td>\n      <td>56454</td>\n      <td>56517</td>\n      <td>56572</td>\n    </tr>\n    <tr>\n      <th>1</th>\n      <td>NaN</td>\n      <td>Albania</td>\n      <td>41.15330</td>\n      <td>20.168300</td>\n      <td>0</td>\n      <td>0</td>\n      <td>0</td>\n      <td>0</td>\n      <td>0</td>\n      <td>0</td>\n      <td>...</td>\n      <td>122295</td>\n      <td>122767</td>\n      <td>123216</td>\n      <td>123641</td>\n      <td>124134</td>\n      <td>124419</td>\n      <td>124723</td>\n      <td>125157</td>\n      <td>125506</td>\n      <td>125842</td>\n    </tr>\n    <tr>\n      <th>2</th>\n      <td>NaN</td>\n      <td>Algeria</td>\n      <td>28.03390</td>\n      <td>1.659600</td>\n      <td>0</td>\n      <td>0</td>\n      <td>0</td>\n      <td>0</td>\n      <td>0</td>\n      <td>0</td>\n      <td>...</td>\n      <td>116438</td>\n      <td>116543</td>\n      <td>116657</td>\n      <td>116750</td>\n      <td>116836</td>\n      <td>116946</td>\n      <td>117061</td>\n      <td>117192</td>\n      <td>117304</td>\n      <td>117429</td>\n    </tr>\n    <tr>\n      <th>3</th>\n      <td>NaN</td>\n      <td>Andorra</td>\n      <td>42.50630</td>\n      <td>1.521800</td>\n      <td>0</td>\n      <td>0</td>\n      <td>0</td>\n      <td>0</td>\n      <td>0</td>\n      <td>0</td>\n      <td>...</td>\n      <td>11638</td>\n      <td>11687</td>\n      <td>11732</td>\n      <td>11809</td>\n      <td>11850</td>\n      <td>11888</td>\n      <td>11944</td>\n      <td>12010</td>\n      <td>12053</td>\n      <td>12115</td>\n    </tr>\n    <tr>\n      <th>4</th>\n      <td>NaN</td>\n      <td>Angola</td>\n      <td>-11.20270</td>\n      <td>17.873900</td>\n      <td>0</td>\n      <td>0</td>\n      <td>0</td>\n      <td>0</td>\n      <td>0</td>\n      <td>0</td>\n      <td>...</td>\n      <td>21836</td>\n      <td>21914</td>\n      <td>21961</td>\n      <td>22031</td>\n      <td>22063</td>\n      <td>22132</td>\n      <td>22182</td>\n      <td>22311</td>\n      <td>22399</td>\n      <td>22467</td>\n    </tr>\n  </tbody>\n</table>\n<p>5 rows × 441 columns</p>\n</div>"
     },
     "metadata": {},
     "execution_count": 5
    }
   ],
   "source": [
    "print(\"Head of global confirmed cases:\")\n",
    "global_confirmed.head()"
   ]
  },
  {
   "cell_type": "code",
   "execution_count": 6,
   "metadata": {},
   "outputs": [
    {
     "output_type": "stream",
     "name": "stdout",
     "text": [
      "Info about global confirmed cases dataframe:\n<class 'pandas.core.frame.DataFrame'>\nRangeIndex: 274 entries, 0 to 273\nColumns: 441 entries, Province/State to 4/2/21\ndtypes: float64(2), int64(437), object(2)\nmemory usage: 944.1+ KB\n"
     ]
    }
   ],
   "source": [
    "print(\"Info about global confirmed cases dataframe:\")\n",
    "global_confirmed.info()"
   ]
  },
  {
   "cell_type": "code",
   "execution_count": 7,
   "metadata": {},
   "outputs": [
    {
     "output_type": "stream",
     "name": "stdout",
     "text": [
      "Statistics for global confirmed cases:\n"
     ]
    },
    {
     "output_type": "execute_result",
     "data": {
      "text/plain": [
       "          1/22/20     1/23/20     1/24/20     1/25/20      1/26/20  \\\n",
       "count  274.000000  274.000000  274.000000  274.000000   274.000000   \n",
       "mean     2.032847    2.390511    3.434307    5.229927     7.729927   \n",
       "std     26.879101   26.977077   33.585238   46.743494    65.324493   \n",
       "min      0.000000    0.000000    0.000000    0.000000     0.000000   \n",
       "25%      0.000000    0.000000    0.000000    0.000000     0.000000   \n",
       "50%      0.000000    0.000000    0.000000    0.000000     0.000000   \n",
       "75%      0.000000    0.000000    0.000000    0.000000     0.000000   \n",
       "max    444.000000  444.000000  549.000000  761.000000  1058.000000   \n",
       "\n",
       "           1/27/20      1/28/20      1/29/20      1/30/20      1/31/20  ...  \\\n",
       "count   274.000000   274.000000   274.000000   274.000000   274.000000  ...   \n",
       "mean     10.682482    20.357664    22.507299    30.054745    36.229927  ...   \n",
       "std      88.014971   215.981285   217.304706   299.457288   355.034830  ...   \n",
       "min       0.000000     0.000000     0.000000     0.000000     0.000000  ...   \n",
       "25%       0.000000     0.000000     0.000000     0.000000     0.000000  ...   \n",
       "50%       0.000000     0.000000     0.000000     0.000000     0.000000  ...   \n",
       "75%       0.000000     0.000000     0.000000     0.000000     0.000000  ...   \n",
       "max    1423.000000  3554.000000  3554.000000  4903.000000  5806.000000  ...   \n",
       "\n",
       "            3/24/21       3/25/21       3/26/21       3/27/21       3/28/21  \\\n",
       "count  2.740000e+02  2.740000e+02  2.740000e+02  2.740000e+02  2.740000e+02   \n",
       "mean   4.556177e+05  4.579944e+05  4.603345e+05  4.624654e+05  4.641822e+05   \n",
       "std    2.162368e+06  2.169969e+06  2.177760e+06  2.184772e+06  2.189957e+06   \n",
       "min    0.000000e+00  0.000000e+00  0.000000e+00  0.000000e+00  0.000000e+00   \n",
       "25%    1.021000e+03  1.021000e+03  1.021500e+03  1.025250e+03  1.031250e+03   \n",
       "50%    1.443450e+04  1.443450e+04  1.443450e+04  1.443450e+04  1.443450e+04   \n",
       "75%    1.919832e+05  1.936948e+05  1.954990e+05  1.973580e+05  1.983818e+05   \n",
       "max    3.001261e+07  3.008006e+07  3.015737e+07  3.021945e+07  3.026314e+07   \n",
       "\n",
       "            3/29/21       3/30/21       3/31/21        4/1/21        4/2/21  \n",
       "count  2.740000e+02  2.740000e+02  2.740000e+02  2.740000e+02  2.740000e+02  \n",
       "mean   4.658572e+05  4.679306e+05  4.704234e+05  4.730206e+05  4.753157e+05  \n",
       "std    2.195954e+06  2.202630e+06  2.210443e+06  2.219010e+06  2.226723e+06  \n",
       "min    0.000000e+00  0.000000e+00  0.000000e+00  0.000000e+00  0.000000e+00  \n",
       "25%    1.043750e+03  1.043750e+03  1.043750e+03  1.044500e+03  1.061250e+03  \n",
       "50%    1.443450e+04  1.443450e+04  1.494700e+04  1.494700e+04  1.494700e+04  \n",
       "75%    1.989432e+05  1.995325e+05  2.000568e+05  2.008212e+05  2.014185e+05  \n",
       "max    3.033256e+07  3.039380e+07  3.046083e+07  3.053987e+07  3.060969e+07  \n",
       "\n",
       "[8 rows x 437 columns]"
      ],
      "text/html": "<div>\n<style scoped>\n    .dataframe tbody tr th:only-of-type {\n        vertical-align: middle;\n    }\n\n    .dataframe tbody tr th {\n        vertical-align: top;\n    }\n\n    .dataframe thead th {\n        text-align: right;\n    }\n</style>\n<table border=\"1\" class=\"dataframe\">\n  <thead>\n    <tr style=\"text-align: right;\">\n      <th></th>\n      <th>1/22/20</th>\n      <th>1/23/20</th>\n      <th>1/24/20</th>\n      <th>1/25/20</th>\n      <th>1/26/20</th>\n      <th>1/27/20</th>\n      <th>1/28/20</th>\n      <th>1/29/20</th>\n      <th>1/30/20</th>\n      <th>1/31/20</th>\n      <th>...</th>\n      <th>3/24/21</th>\n      <th>3/25/21</th>\n      <th>3/26/21</th>\n      <th>3/27/21</th>\n      <th>3/28/21</th>\n      <th>3/29/21</th>\n      <th>3/30/21</th>\n      <th>3/31/21</th>\n      <th>4/1/21</th>\n      <th>4/2/21</th>\n    </tr>\n  </thead>\n  <tbody>\n    <tr>\n      <th>count</th>\n      <td>274.000000</td>\n      <td>274.000000</td>\n      <td>274.000000</td>\n      <td>274.000000</td>\n      <td>274.000000</td>\n      <td>274.000000</td>\n      <td>274.000000</td>\n      <td>274.000000</td>\n      <td>274.000000</td>\n      <td>274.000000</td>\n      <td>...</td>\n      <td>2.740000e+02</td>\n      <td>2.740000e+02</td>\n      <td>2.740000e+02</td>\n      <td>2.740000e+02</td>\n      <td>2.740000e+02</td>\n      <td>2.740000e+02</td>\n      <td>2.740000e+02</td>\n      <td>2.740000e+02</td>\n      <td>2.740000e+02</td>\n      <td>2.740000e+02</td>\n    </tr>\n    <tr>\n      <th>mean</th>\n      <td>2.032847</td>\n      <td>2.390511</td>\n      <td>3.434307</td>\n      <td>5.229927</td>\n      <td>7.729927</td>\n      <td>10.682482</td>\n      <td>20.357664</td>\n      <td>22.507299</td>\n      <td>30.054745</td>\n      <td>36.229927</td>\n      <td>...</td>\n      <td>4.556177e+05</td>\n      <td>4.579944e+05</td>\n      <td>4.603345e+05</td>\n      <td>4.624654e+05</td>\n      <td>4.641822e+05</td>\n      <td>4.658572e+05</td>\n      <td>4.679306e+05</td>\n      <td>4.704234e+05</td>\n      <td>4.730206e+05</td>\n      <td>4.753157e+05</td>\n    </tr>\n    <tr>\n      <th>std</th>\n      <td>26.879101</td>\n      <td>26.977077</td>\n      <td>33.585238</td>\n      <td>46.743494</td>\n      <td>65.324493</td>\n      <td>88.014971</td>\n      <td>215.981285</td>\n      <td>217.304706</td>\n      <td>299.457288</td>\n      <td>355.034830</td>\n      <td>...</td>\n      <td>2.162368e+06</td>\n      <td>2.169969e+06</td>\n      <td>2.177760e+06</td>\n      <td>2.184772e+06</td>\n      <td>2.189957e+06</td>\n      <td>2.195954e+06</td>\n      <td>2.202630e+06</td>\n      <td>2.210443e+06</td>\n      <td>2.219010e+06</td>\n      <td>2.226723e+06</td>\n    </tr>\n    <tr>\n      <th>min</th>\n      <td>0.000000</td>\n      <td>0.000000</td>\n      <td>0.000000</td>\n      <td>0.000000</td>\n      <td>0.000000</td>\n      <td>0.000000</td>\n      <td>0.000000</td>\n      <td>0.000000</td>\n      <td>0.000000</td>\n      <td>0.000000</td>\n      <td>...</td>\n      <td>0.000000e+00</td>\n      <td>0.000000e+00</td>\n      <td>0.000000e+00</td>\n      <td>0.000000e+00</td>\n      <td>0.000000e+00</td>\n      <td>0.000000e+00</td>\n      <td>0.000000e+00</td>\n      <td>0.000000e+00</td>\n      <td>0.000000e+00</td>\n      <td>0.000000e+00</td>\n    </tr>\n    <tr>\n      <th>25%</th>\n      <td>0.000000</td>\n      <td>0.000000</td>\n      <td>0.000000</td>\n      <td>0.000000</td>\n      <td>0.000000</td>\n      <td>0.000000</td>\n      <td>0.000000</td>\n      <td>0.000000</td>\n      <td>0.000000</td>\n      <td>0.000000</td>\n      <td>...</td>\n      <td>1.021000e+03</td>\n      <td>1.021000e+03</td>\n      <td>1.021500e+03</td>\n      <td>1.025250e+03</td>\n      <td>1.031250e+03</td>\n      <td>1.043750e+03</td>\n      <td>1.043750e+03</td>\n      <td>1.043750e+03</td>\n      <td>1.044500e+03</td>\n      <td>1.061250e+03</td>\n    </tr>\n    <tr>\n      <th>50%</th>\n      <td>0.000000</td>\n      <td>0.000000</td>\n      <td>0.000000</td>\n      <td>0.000000</td>\n      <td>0.000000</td>\n      <td>0.000000</td>\n      <td>0.000000</td>\n      <td>0.000000</td>\n      <td>0.000000</td>\n      <td>0.000000</td>\n      <td>...</td>\n      <td>1.443450e+04</td>\n      <td>1.443450e+04</td>\n      <td>1.443450e+04</td>\n      <td>1.443450e+04</td>\n      <td>1.443450e+04</td>\n      <td>1.443450e+04</td>\n      <td>1.443450e+04</td>\n      <td>1.494700e+04</td>\n      <td>1.494700e+04</td>\n      <td>1.494700e+04</td>\n    </tr>\n    <tr>\n      <th>75%</th>\n      <td>0.000000</td>\n      <td>0.000000</td>\n      <td>0.000000</td>\n      <td>0.000000</td>\n      <td>0.000000</td>\n      <td>0.000000</td>\n      <td>0.000000</td>\n      <td>0.000000</td>\n      <td>0.000000</td>\n      <td>0.000000</td>\n      <td>...</td>\n      <td>1.919832e+05</td>\n      <td>1.936948e+05</td>\n      <td>1.954990e+05</td>\n      <td>1.973580e+05</td>\n      <td>1.983818e+05</td>\n      <td>1.989432e+05</td>\n      <td>1.995325e+05</td>\n      <td>2.000568e+05</td>\n      <td>2.008212e+05</td>\n      <td>2.014185e+05</td>\n    </tr>\n    <tr>\n      <th>max</th>\n      <td>444.000000</td>\n      <td>444.000000</td>\n      <td>549.000000</td>\n      <td>761.000000</td>\n      <td>1058.000000</td>\n      <td>1423.000000</td>\n      <td>3554.000000</td>\n      <td>3554.000000</td>\n      <td>4903.000000</td>\n      <td>5806.000000</td>\n      <td>...</td>\n      <td>3.001261e+07</td>\n      <td>3.008006e+07</td>\n      <td>3.015737e+07</td>\n      <td>3.021945e+07</td>\n      <td>3.026314e+07</td>\n      <td>3.033256e+07</td>\n      <td>3.039380e+07</td>\n      <td>3.046083e+07</td>\n      <td>3.053987e+07</td>\n      <td>3.060969e+07</td>\n    </tr>\n  </tbody>\n</table>\n<p>8 rows × 437 columns</p>\n</div>"
     },
     "metadata": {},
     "execution_count": 7
    }
   ],
   "source": [
    "print(\"Statistics for global confirmed cases:\")\n",
    "global_confirmed.drop(['Lat', 'Long'], axis=1).describe()"
   ]
  },
  {
   "source": [
    "## Global Death Cases\n",
    "### The following shows the first 5 entries of the global death cases dataframe, info about the global death cases dataframe, and summary statistics of the global death cases dataframe"
   ],
   "cell_type": "markdown",
   "metadata": {}
  },
  {
   "cell_type": "code",
   "execution_count": 8,
   "metadata": {},
   "outputs": [
    {
     "output_type": "stream",
     "name": "stdout",
     "text": [
      "Head of global death cases:\n"
     ]
    },
    {
     "output_type": "execute_result",
     "data": {
      "text/plain": [
       "  Province/State Country/Region       Lat       Long  1/22/20  1/23/20  \\\n",
       "0            NaN    Afghanistan  33.93911  67.709953        0        0   \n",
       "1            NaN        Albania  41.15330  20.168300        0        0   \n",
       "2            NaN        Algeria  28.03390   1.659600        0        0   \n",
       "3            NaN        Andorra  42.50630   1.521800        0        0   \n",
       "4            NaN         Angola -11.20270  17.873900        0        0   \n",
       "\n",
       "   1/24/20  1/25/20  1/26/20  1/27/20  ...  3/24/21  3/25/21  3/26/21  \\\n",
       "0        0        0        0        0  ...     2466     2467     2467   \n",
       "1        0        0        0        0  ...     2171     2184     2192   \n",
       "2        0        0        0        0  ...     3069     3071     3074   \n",
       "3        0        0        0        0  ...      114      114      114   \n",
       "4        0        0        0        0  ...      532      532      532   \n",
       "\n",
       "   3/27/21  3/28/21  3/29/21  3/30/21  3/31/21  4/1/21  4/2/21  \n",
       "0     2469     2470     2472     2476     2484    2489    2495  \n",
       "1     2204     2210     2216     2227     2235    2241    2247  \n",
       "2     3077     3080     3084     3089     3093    3096    3099  \n",
       "3      115      115      115      115      115     115     116  \n",
       "4      533      533      534      536      537     538     538  \n",
       "\n",
       "[5 rows x 441 columns]"
      ],
      "text/html": "<div>\n<style scoped>\n    .dataframe tbody tr th:only-of-type {\n        vertical-align: middle;\n    }\n\n    .dataframe tbody tr th {\n        vertical-align: top;\n    }\n\n    .dataframe thead th {\n        text-align: right;\n    }\n</style>\n<table border=\"1\" class=\"dataframe\">\n  <thead>\n    <tr style=\"text-align: right;\">\n      <th></th>\n      <th>Province/State</th>\n      <th>Country/Region</th>\n      <th>Lat</th>\n      <th>Long</th>\n      <th>1/22/20</th>\n      <th>1/23/20</th>\n      <th>1/24/20</th>\n      <th>1/25/20</th>\n      <th>1/26/20</th>\n      <th>1/27/20</th>\n      <th>...</th>\n      <th>3/24/21</th>\n      <th>3/25/21</th>\n      <th>3/26/21</th>\n      <th>3/27/21</th>\n      <th>3/28/21</th>\n      <th>3/29/21</th>\n      <th>3/30/21</th>\n      <th>3/31/21</th>\n      <th>4/1/21</th>\n      <th>4/2/21</th>\n    </tr>\n  </thead>\n  <tbody>\n    <tr>\n      <th>0</th>\n      <td>NaN</td>\n      <td>Afghanistan</td>\n      <td>33.93911</td>\n      <td>67.709953</td>\n      <td>0</td>\n      <td>0</td>\n      <td>0</td>\n      <td>0</td>\n      <td>0</td>\n      <td>0</td>\n      <td>...</td>\n      <td>2466</td>\n      <td>2467</td>\n      <td>2467</td>\n      <td>2469</td>\n      <td>2470</td>\n      <td>2472</td>\n      <td>2476</td>\n      <td>2484</td>\n      <td>2489</td>\n      <td>2495</td>\n    </tr>\n    <tr>\n      <th>1</th>\n      <td>NaN</td>\n      <td>Albania</td>\n      <td>41.15330</td>\n      <td>20.168300</td>\n      <td>0</td>\n      <td>0</td>\n      <td>0</td>\n      <td>0</td>\n      <td>0</td>\n      <td>0</td>\n      <td>...</td>\n      <td>2171</td>\n      <td>2184</td>\n      <td>2192</td>\n      <td>2204</td>\n      <td>2210</td>\n      <td>2216</td>\n      <td>2227</td>\n      <td>2235</td>\n      <td>2241</td>\n      <td>2247</td>\n    </tr>\n    <tr>\n      <th>2</th>\n      <td>NaN</td>\n      <td>Algeria</td>\n      <td>28.03390</td>\n      <td>1.659600</td>\n      <td>0</td>\n      <td>0</td>\n      <td>0</td>\n      <td>0</td>\n      <td>0</td>\n      <td>0</td>\n      <td>...</td>\n      <td>3069</td>\n      <td>3071</td>\n      <td>3074</td>\n      <td>3077</td>\n      <td>3080</td>\n      <td>3084</td>\n      <td>3089</td>\n      <td>3093</td>\n      <td>3096</td>\n      <td>3099</td>\n    </tr>\n    <tr>\n      <th>3</th>\n      <td>NaN</td>\n      <td>Andorra</td>\n      <td>42.50630</td>\n      <td>1.521800</td>\n      <td>0</td>\n      <td>0</td>\n      <td>0</td>\n      <td>0</td>\n      <td>0</td>\n      <td>0</td>\n      <td>...</td>\n      <td>114</td>\n      <td>114</td>\n      <td>114</td>\n      <td>115</td>\n      <td>115</td>\n      <td>115</td>\n      <td>115</td>\n      <td>115</td>\n      <td>115</td>\n      <td>116</td>\n    </tr>\n    <tr>\n      <th>4</th>\n      <td>NaN</td>\n      <td>Angola</td>\n      <td>-11.20270</td>\n      <td>17.873900</td>\n      <td>0</td>\n      <td>0</td>\n      <td>0</td>\n      <td>0</td>\n      <td>0</td>\n      <td>0</td>\n      <td>...</td>\n      <td>532</td>\n      <td>532</td>\n      <td>532</td>\n      <td>533</td>\n      <td>533</td>\n      <td>534</td>\n      <td>536</td>\n      <td>537</td>\n      <td>538</td>\n      <td>538</td>\n    </tr>\n  </tbody>\n</table>\n<p>5 rows × 441 columns</p>\n</div>"
     },
     "metadata": {},
     "execution_count": 8
    }
   ],
   "source": [
    "print(\"Head of global death cases:\")\n",
    "global_death.head()"
   ]
  },
  {
   "cell_type": "code",
   "execution_count": 9,
   "metadata": {},
   "outputs": [
    {
     "output_type": "stream",
     "name": "stdout",
     "text": [
      "Info about global death cases dataframe:\n<class 'pandas.core.frame.DataFrame'>\nRangeIndex: 274 entries, 0 to 273\nColumns: 441 entries, Province/State to 4/2/21\ndtypes: float64(2), int64(437), object(2)\nmemory usage: 944.1+ KB\n"
     ]
    }
   ],
   "source": [
    "print(\"Info about global death cases dataframe:\")\n",
    "global_death.info()"
   ]
  },
  {
   "cell_type": "code",
   "execution_count": 10,
   "metadata": {},
   "outputs": [
    {
     "output_type": "stream",
     "name": "stdout",
     "text": [
      "Statistics for global death cases:\n"
     ]
    },
    {
     "output_type": "execute_result",
     "data": {
      "text/plain": [
       "          1/22/20     1/23/20     1/24/20     1/25/20     1/26/20     1/27/20  \\\n",
       "count  274.000000  274.000000  274.000000  274.000000  274.000000  274.000000   \n",
       "mean     0.062044    0.065693    0.094891    0.153285    0.204380    0.299270   \n",
       "std      1.027008    1.028562    1.451957    2.417550    3.142847    4.592341   \n",
       "min      0.000000    0.000000    0.000000    0.000000    0.000000    0.000000   \n",
       "25%      0.000000    0.000000    0.000000    0.000000    0.000000    0.000000   \n",
       "50%      0.000000    0.000000    0.000000    0.000000    0.000000    0.000000   \n",
       "75%      0.000000    0.000000    0.000000    0.000000    0.000000    0.000000   \n",
       "max     17.000000   17.000000   24.000000   40.000000   52.000000   76.000000   \n",
       "\n",
       "          1/28/20     1/29/20     1/30/20     1/31/20  ...        3/24/21  \\\n",
       "count  274.000000  274.000000  274.000000  274.000000  ...     274.000000   \n",
       "mean     0.478102    0.485401    0.624088    0.777372  ...   10014.437956   \n",
       "std      7.551622    7.552125    9.787164   12.323987  ...   43234.074990   \n",
       "min      0.000000    0.000000    0.000000    0.000000  ...       0.000000   \n",
       "25%      0.000000    0.000000    0.000000    0.000000  ...       7.000000   \n",
       "50%      0.000000    0.000000    0.000000    0.000000  ...     181.000000   \n",
       "75%      0.000000    0.000000    0.000000    0.000000  ...    2992.000000   \n",
       "max    125.000000  125.000000  162.000000  204.000000  ...  545492.000000   \n",
       "\n",
       "             3/25/21        3/26/21        3/27/21        3/28/21  \\\n",
       "count     274.000000     274.000000     274.000000     274.000000   \n",
       "mean    10056.361314   10100.843066   10136.572993   10160.164234   \n",
       "std     43406.150157   43584.724894   43731.233417   43812.597722   \n",
       "min         0.000000       0.000000       0.000000       0.000000   \n",
       "25%         7.000000       7.250000       7.250000       7.250000   \n",
       "50%       181.000000     181.000000     181.000000     181.000000   \n",
       "75%      2992.000000    3000.750000    3003.000000    3003.000000   \n",
       "max    547051.000000  548172.000000  548913.000000  549420.000000   \n",
       "\n",
       "             3/29/21        3/30/21        3/31/21         4/1/21  \\\n",
       "count     274.000000     274.000000     274.000000     274.000000   \n",
       "mean    10189.182482   10231.375912   10276.127737   10319.416058   \n",
       "std     43906.987548   44077.357752   44258.129471   44434.051980   \n",
       "min         0.000000       0.000000       0.000000       0.000000   \n",
       "25%         7.250000       7.250000       8.000000       8.000000   \n",
       "50%       181.000000     182.000000     182.000000     182.500000   \n",
       "75%      3003.000000    3011.750000    3011.750000    3012.500000   \n",
       "max    550121.000000  550996.000000  552072.000000  553136.000000   \n",
       "\n",
       "              4/2/21  \n",
       "count     274.000000  \n",
       "mean    10356.602190  \n",
       "std     44581.538159  \n",
       "min         0.000000  \n",
       "25%         8.250000  \n",
       "50%       182.500000  \n",
       "75%      3012.500000  \n",
       "max    554103.000000  \n",
       "\n",
       "[8 rows x 437 columns]"
      ],
      "text/html": "<div>\n<style scoped>\n    .dataframe tbody tr th:only-of-type {\n        vertical-align: middle;\n    }\n\n    .dataframe tbody tr th {\n        vertical-align: top;\n    }\n\n    .dataframe thead th {\n        text-align: right;\n    }\n</style>\n<table border=\"1\" class=\"dataframe\">\n  <thead>\n    <tr style=\"text-align: right;\">\n      <th></th>\n      <th>1/22/20</th>\n      <th>1/23/20</th>\n      <th>1/24/20</th>\n      <th>1/25/20</th>\n      <th>1/26/20</th>\n      <th>1/27/20</th>\n      <th>1/28/20</th>\n      <th>1/29/20</th>\n      <th>1/30/20</th>\n      <th>1/31/20</th>\n      <th>...</th>\n      <th>3/24/21</th>\n      <th>3/25/21</th>\n      <th>3/26/21</th>\n      <th>3/27/21</th>\n      <th>3/28/21</th>\n      <th>3/29/21</th>\n      <th>3/30/21</th>\n      <th>3/31/21</th>\n      <th>4/1/21</th>\n      <th>4/2/21</th>\n    </tr>\n  </thead>\n  <tbody>\n    <tr>\n      <th>count</th>\n      <td>274.000000</td>\n      <td>274.000000</td>\n      <td>274.000000</td>\n      <td>274.000000</td>\n      <td>274.000000</td>\n      <td>274.000000</td>\n      <td>274.000000</td>\n      <td>274.000000</td>\n      <td>274.000000</td>\n      <td>274.000000</td>\n      <td>...</td>\n      <td>274.000000</td>\n      <td>274.000000</td>\n      <td>274.000000</td>\n      <td>274.000000</td>\n      <td>274.000000</td>\n      <td>274.000000</td>\n      <td>274.000000</td>\n      <td>274.000000</td>\n      <td>274.000000</td>\n      <td>274.000000</td>\n    </tr>\n    <tr>\n      <th>mean</th>\n      <td>0.062044</td>\n      <td>0.065693</td>\n      <td>0.094891</td>\n      <td>0.153285</td>\n      <td>0.204380</td>\n      <td>0.299270</td>\n      <td>0.478102</td>\n      <td>0.485401</td>\n      <td>0.624088</td>\n      <td>0.777372</td>\n      <td>...</td>\n      <td>10014.437956</td>\n      <td>10056.361314</td>\n      <td>10100.843066</td>\n      <td>10136.572993</td>\n      <td>10160.164234</td>\n      <td>10189.182482</td>\n      <td>10231.375912</td>\n      <td>10276.127737</td>\n      <td>10319.416058</td>\n      <td>10356.602190</td>\n    </tr>\n    <tr>\n      <th>std</th>\n      <td>1.027008</td>\n      <td>1.028562</td>\n      <td>1.451957</td>\n      <td>2.417550</td>\n      <td>3.142847</td>\n      <td>4.592341</td>\n      <td>7.551622</td>\n      <td>7.552125</td>\n      <td>9.787164</td>\n      <td>12.323987</td>\n      <td>...</td>\n      <td>43234.074990</td>\n      <td>43406.150157</td>\n      <td>43584.724894</td>\n      <td>43731.233417</td>\n      <td>43812.597722</td>\n      <td>43906.987548</td>\n      <td>44077.357752</td>\n      <td>44258.129471</td>\n      <td>44434.051980</td>\n      <td>44581.538159</td>\n    </tr>\n    <tr>\n      <th>min</th>\n      <td>0.000000</td>\n      <td>0.000000</td>\n      <td>0.000000</td>\n      <td>0.000000</td>\n      <td>0.000000</td>\n      <td>0.000000</td>\n      <td>0.000000</td>\n      <td>0.000000</td>\n      <td>0.000000</td>\n      <td>0.000000</td>\n      <td>...</td>\n      <td>0.000000</td>\n      <td>0.000000</td>\n      <td>0.000000</td>\n      <td>0.000000</td>\n      <td>0.000000</td>\n      <td>0.000000</td>\n      <td>0.000000</td>\n      <td>0.000000</td>\n      <td>0.000000</td>\n      <td>0.000000</td>\n    </tr>\n    <tr>\n      <th>25%</th>\n      <td>0.000000</td>\n      <td>0.000000</td>\n      <td>0.000000</td>\n      <td>0.000000</td>\n      <td>0.000000</td>\n      <td>0.000000</td>\n      <td>0.000000</td>\n      <td>0.000000</td>\n      <td>0.000000</td>\n      <td>0.000000</td>\n      <td>...</td>\n      <td>7.000000</td>\n      <td>7.000000</td>\n      <td>7.250000</td>\n      <td>7.250000</td>\n      <td>7.250000</td>\n      <td>7.250000</td>\n      <td>7.250000</td>\n      <td>8.000000</td>\n      <td>8.000000</td>\n      <td>8.250000</td>\n    </tr>\n    <tr>\n      <th>50%</th>\n      <td>0.000000</td>\n      <td>0.000000</td>\n      <td>0.000000</td>\n      <td>0.000000</td>\n      <td>0.000000</td>\n      <td>0.000000</td>\n      <td>0.000000</td>\n      <td>0.000000</td>\n      <td>0.000000</td>\n      <td>0.000000</td>\n      <td>...</td>\n      <td>181.000000</td>\n      <td>181.000000</td>\n      <td>181.000000</td>\n      <td>181.000000</td>\n      <td>181.000000</td>\n      <td>181.000000</td>\n      <td>182.000000</td>\n      <td>182.000000</td>\n      <td>182.500000</td>\n      <td>182.500000</td>\n    </tr>\n    <tr>\n      <th>75%</th>\n      <td>0.000000</td>\n      <td>0.000000</td>\n      <td>0.000000</td>\n      <td>0.000000</td>\n      <td>0.000000</td>\n      <td>0.000000</td>\n      <td>0.000000</td>\n      <td>0.000000</td>\n      <td>0.000000</td>\n      <td>0.000000</td>\n      <td>...</td>\n      <td>2992.000000</td>\n      <td>2992.000000</td>\n      <td>3000.750000</td>\n      <td>3003.000000</td>\n      <td>3003.000000</td>\n      <td>3003.000000</td>\n      <td>3011.750000</td>\n      <td>3011.750000</td>\n      <td>3012.500000</td>\n      <td>3012.500000</td>\n    </tr>\n    <tr>\n      <th>max</th>\n      <td>17.000000</td>\n      <td>17.000000</td>\n      <td>24.000000</td>\n      <td>40.000000</td>\n      <td>52.000000</td>\n      <td>76.000000</td>\n      <td>125.000000</td>\n      <td>125.000000</td>\n      <td>162.000000</td>\n      <td>204.000000</td>\n      <td>...</td>\n      <td>545492.000000</td>\n      <td>547051.000000</td>\n      <td>548172.000000</td>\n      <td>548913.000000</td>\n      <td>549420.000000</td>\n      <td>550121.000000</td>\n      <td>550996.000000</td>\n      <td>552072.000000</td>\n      <td>553136.000000</td>\n      <td>554103.000000</td>\n    </tr>\n  </tbody>\n</table>\n<p>8 rows × 437 columns</p>\n</div>"
     },
     "metadata": {},
     "execution_count": 10
    }
   ],
   "source": [
    "print(\"Statistics for global death cases:\")\n",
    "global_death.drop(['Lat', 'Long'], axis=1).describe()"
   ]
  },
  {
   "source": [
    "## Global Recovered Cases\n",
    "### The following shows the first 5 entries of the global recovered cases dataframe, info about the global recovered cases dataframe, and summary statistics of the global recovered cases dataframe"
   ],
   "cell_type": "markdown",
   "metadata": {}
  },
  {
   "cell_type": "code",
   "execution_count": 11,
   "metadata": {},
   "outputs": [
    {
     "output_type": "stream",
     "name": "stdout",
     "text": [
      "Head of global recovered cases:\n"
     ]
    },
    {
     "output_type": "execute_result",
     "data": {
      "text/plain": [
       "  Province/State Country/Region       Lat       Long  1/22/20  1/23/20  \\\n",
       "0            NaN    Afghanistan  33.93911  67.709953        0        0   \n",
       "1            NaN        Albania  41.15330  20.168300        0        0   \n",
       "2            NaN        Algeria  28.03390   1.659600        0        0   \n",
       "3            NaN        Andorra  42.50630   1.521800        0        0   \n",
       "4            NaN         Angola -11.20270  17.873900        0        0   \n",
       "\n",
       "   1/24/20  1/25/20  1/26/20  1/27/20  ...  3/24/21  3/25/21  3/26/21  \\\n",
       "0        0        0        0        0  ...    49802    49937    49994   \n",
       "1        0        0        0        0  ...    87193    87760    88349   \n",
       "2        0        0        0        0  ...    81065    81065    81160   \n",
       "3        0        0        0        0  ...    11082    11111    11149   \n",
       "4        0        0        0        0  ...    20172    20190    20250   \n",
       "\n",
       "   3/27/21  3/28/21  3/29/21  3/30/21  3/31/21  4/1/21  4/2/21  \n",
       "0    49994    50013    50666    51473    51550   51788   51798  \n",
       "1    88899    89456    90024    90617    91271   91875   92500  \n",
       "2    81242    81316    81349    81442    81538   81632   81729  \n",
       "3    11172    11204    11244    11276    11315   11365   11401  \n",
       "4    20269    20289    20380    20446    20493   20508   20867  \n",
       "\n",
       "[5 rows x 441 columns]"
      ],
      "text/html": "<div>\n<style scoped>\n    .dataframe tbody tr th:only-of-type {\n        vertical-align: middle;\n    }\n\n    .dataframe tbody tr th {\n        vertical-align: top;\n    }\n\n    .dataframe thead th {\n        text-align: right;\n    }\n</style>\n<table border=\"1\" class=\"dataframe\">\n  <thead>\n    <tr style=\"text-align: right;\">\n      <th></th>\n      <th>Province/State</th>\n      <th>Country/Region</th>\n      <th>Lat</th>\n      <th>Long</th>\n      <th>1/22/20</th>\n      <th>1/23/20</th>\n      <th>1/24/20</th>\n      <th>1/25/20</th>\n      <th>1/26/20</th>\n      <th>1/27/20</th>\n      <th>...</th>\n      <th>3/24/21</th>\n      <th>3/25/21</th>\n      <th>3/26/21</th>\n      <th>3/27/21</th>\n      <th>3/28/21</th>\n      <th>3/29/21</th>\n      <th>3/30/21</th>\n      <th>3/31/21</th>\n      <th>4/1/21</th>\n      <th>4/2/21</th>\n    </tr>\n  </thead>\n  <tbody>\n    <tr>\n      <th>0</th>\n      <td>NaN</td>\n      <td>Afghanistan</td>\n      <td>33.93911</td>\n      <td>67.709953</td>\n      <td>0</td>\n      <td>0</td>\n      <td>0</td>\n      <td>0</td>\n      <td>0</td>\n      <td>0</td>\n      <td>...</td>\n      <td>49802</td>\n      <td>49937</td>\n      <td>49994</td>\n      <td>49994</td>\n      <td>50013</td>\n      <td>50666</td>\n      <td>51473</td>\n      <td>51550</td>\n      <td>51788</td>\n      <td>51798</td>\n    </tr>\n    <tr>\n      <th>1</th>\n      <td>NaN</td>\n      <td>Albania</td>\n      <td>41.15330</td>\n      <td>20.168300</td>\n      <td>0</td>\n      <td>0</td>\n      <td>0</td>\n      <td>0</td>\n      <td>0</td>\n      <td>0</td>\n      <td>...</td>\n      <td>87193</td>\n      <td>87760</td>\n      <td>88349</td>\n      <td>88899</td>\n      <td>89456</td>\n      <td>90024</td>\n      <td>90617</td>\n      <td>91271</td>\n      <td>91875</td>\n      <td>92500</td>\n    </tr>\n    <tr>\n      <th>2</th>\n      <td>NaN</td>\n      <td>Algeria</td>\n      <td>28.03390</td>\n      <td>1.659600</td>\n      <td>0</td>\n      <td>0</td>\n      <td>0</td>\n      <td>0</td>\n      <td>0</td>\n      <td>0</td>\n      <td>...</td>\n      <td>81065</td>\n      <td>81065</td>\n      <td>81160</td>\n      <td>81242</td>\n      <td>81316</td>\n      <td>81349</td>\n      <td>81442</td>\n      <td>81538</td>\n      <td>81632</td>\n      <td>81729</td>\n    </tr>\n    <tr>\n      <th>3</th>\n      <td>NaN</td>\n      <td>Andorra</td>\n      <td>42.50630</td>\n      <td>1.521800</td>\n      <td>0</td>\n      <td>0</td>\n      <td>0</td>\n      <td>0</td>\n      <td>0</td>\n      <td>0</td>\n      <td>...</td>\n      <td>11082</td>\n      <td>11111</td>\n      <td>11149</td>\n      <td>11172</td>\n      <td>11204</td>\n      <td>11244</td>\n      <td>11276</td>\n      <td>11315</td>\n      <td>11365</td>\n      <td>11401</td>\n    </tr>\n    <tr>\n      <th>4</th>\n      <td>NaN</td>\n      <td>Angola</td>\n      <td>-11.20270</td>\n      <td>17.873900</td>\n      <td>0</td>\n      <td>0</td>\n      <td>0</td>\n      <td>0</td>\n      <td>0</td>\n      <td>0</td>\n      <td>...</td>\n      <td>20172</td>\n      <td>20190</td>\n      <td>20250</td>\n      <td>20269</td>\n      <td>20289</td>\n      <td>20380</td>\n      <td>20446</td>\n      <td>20493</td>\n      <td>20508</td>\n      <td>20867</td>\n    </tr>\n  </tbody>\n</table>\n<p>5 rows × 441 columns</p>\n</div>"
     },
     "metadata": {},
     "execution_count": 11
    }
   ],
   "source": [
    "print(\"Head of global recovered cases:\")\n",
    "global_recovered.head()"
   ]
  },
  {
   "cell_type": "code",
   "execution_count": 12,
   "metadata": {},
   "outputs": [
    {
     "output_type": "stream",
     "name": "stdout",
     "text": [
      "Info about global recovered cases dataframe:\n<class 'pandas.core.frame.DataFrame'>\nRangeIndex: 259 entries, 0 to 258\nColumns: 441 entries, Province/State to 4/2/21\ndtypes: float64(2), int64(437), object(2)\nmemory usage: 892.5+ KB\n"
     ]
    }
   ],
   "source": [
    "print(\"Info about global recovered cases dataframe:\")\n",
    "global_recovered.info()"
   ]
  },
  {
   "cell_type": "code",
   "execution_count": 13,
   "metadata": {},
   "outputs": [
    {
     "output_type": "stream",
     "name": "stdout",
     "text": [
      "Statistics for global recovered cases:\n"
     ]
    },
    {
     "output_type": "execute_result",
     "data": {
      "text/plain": [
       "          1/22/20     1/23/20     1/24/20     1/25/20     1/26/20     1/27/20  \\\n",
       "count  259.000000  259.000000  259.000000  259.000000  259.000000  259.000000   \n",
       "mean     0.115830    0.123552    0.150579    0.162162    0.216216    0.250965   \n",
       "std      1.743788    1.747697    1.940118    2.005022    2.641273    2.839838   \n",
       "min      0.000000    0.000000    0.000000    0.000000    0.000000    0.000000   \n",
       "25%      0.000000    0.000000    0.000000    0.000000    0.000000    0.000000   \n",
       "50%      0.000000    0.000000    0.000000    0.000000    0.000000    0.000000   \n",
       "75%      0.000000    0.000000    0.000000    0.000000    0.000000    0.000000   \n",
       "max     28.000000   28.000000   31.000000   32.000000   42.000000   45.000000   \n",
       "\n",
       "          1/28/20     1/29/20     1/30/20     1/31/20  ...       3/24/21  \\\n",
       "count  259.000000  259.000000  259.000000  259.000000  ...  2.590000e+02   \n",
       "mean     0.416988    0.490347    0.559846    0.868726  ...  2.733076e+05   \n",
       "std      5.005023    5.505010    5.665010    8.868885  ...  1.071255e+06   \n",
       "min      0.000000    0.000000    0.000000    0.000000  ...  0.000000e+00   \n",
       "25%      0.000000    0.000000    0.000000    0.000000  ...  8.540000e+02   \n",
       "50%      0.000000    0.000000    0.000000    0.000000  ...  9.002000e+03   \n",
       "75%      0.000000    0.000000    0.000000    0.000000  ...  1.418970e+05   \n",
       "max     80.000000   88.000000   90.000000  141.000000  ...  1.123165e+07   \n",
       "\n",
       "            3/25/21       3/26/21       3/27/21       3/28/21       3/29/21  \\\n",
       "count  2.590000e+02  2.590000e+02  2.590000e+02  2.590000e+02  2.590000e+02   \n",
       "mean   2.745115e+05  2.759192e+05  2.770977e+05  2.783671e+05  2.795426e+05   \n",
       "std    1.075752e+06  1.080969e+06  1.085416e+06  1.089808e+06  1.093001e+06   \n",
       "min    0.000000e+00  0.000000e+00  0.000000e+00  0.000000e+00  0.000000e+00   \n",
       "25%    8.565000e+02  8.565000e+02  8.645000e+02  8.645000e+02  8.645000e+02   \n",
       "50%    9.330000e+03  9.330000e+03  9.391000e+03  9.454000e+03  9.594000e+03   \n",
       "75%    1.427710e+05  1.435825e+05  1.439630e+05  1.451285e+05  1.460390e+05   \n",
       "max    1.126464e+07  1.129502e+07  1.132376e+07  1.135599e+07  1.139302e+07   \n",
       "\n",
       "            3/30/21       3/31/21        4/1/21        4/2/21  \n",
       "count  2.590000e+02  2.590000e+02  2.590000e+02  2.590000e+02  \n",
       "mean   2.808215e+05  2.822830e+05  2.835970e+05  2.848085e+05  \n",
       "std    1.098028e+06  1.104350e+06  1.109635e+06  1.113932e+06  \n",
       "min    0.000000e+00  0.000000e+00  0.000000e+00  0.000000e+00  \n",
       "25%    8.645000e+02  8.655000e+02  8.655000e+02  8.660000e+02  \n",
       "50%    9.594000e+03  9.668000e+03  9.710000e+03  9.749000e+03  \n",
       "75%    1.468215e+05  1.474965e+05  1.482600e+05  1.488735e+05  \n",
       "max    1.143430e+07  1.147468e+07  1.152504e+07  1.156924e+07  \n",
       "\n",
       "[8 rows x 437 columns]"
      ],
      "text/html": "<div>\n<style scoped>\n    .dataframe tbody tr th:only-of-type {\n        vertical-align: middle;\n    }\n\n    .dataframe tbody tr th {\n        vertical-align: top;\n    }\n\n    .dataframe thead th {\n        text-align: right;\n    }\n</style>\n<table border=\"1\" class=\"dataframe\">\n  <thead>\n    <tr style=\"text-align: right;\">\n      <th></th>\n      <th>1/22/20</th>\n      <th>1/23/20</th>\n      <th>1/24/20</th>\n      <th>1/25/20</th>\n      <th>1/26/20</th>\n      <th>1/27/20</th>\n      <th>1/28/20</th>\n      <th>1/29/20</th>\n      <th>1/30/20</th>\n      <th>1/31/20</th>\n      <th>...</th>\n      <th>3/24/21</th>\n      <th>3/25/21</th>\n      <th>3/26/21</th>\n      <th>3/27/21</th>\n      <th>3/28/21</th>\n      <th>3/29/21</th>\n      <th>3/30/21</th>\n      <th>3/31/21</th>\n      <th>4/1/21</th>\n      <th>4/2/21</th>\n    </tr>\n  </thead>\n  <tbody>\n    <tr>\n      <th>count</th>\n      <td>259.000000</td>\n      <td>259.000000</td>\n      <td>259.000000</td>\n      <td>259.000000</td>\n      <td>259.000000</td>\n      <td>259.000000</td>\n      <td>259.000000</td>\n      <td>259.000000</td>\n      <td>259.000000</td>\n      <td>259.000000</td>\n      <td>...</td>\n      <td>2.590000e+02</td>\n      <td>2.590000e+02</td>\n      <td>2.590000e+02</td>\n      <td>2.590000e+02</td>\n      <td>2.590000e+02</td>\n      <td>2.590000e+02</td>\n      <td>2.590000e+02</td>\n      <td>2.590000e+02</td>\n      <td>2.590000e+02</td>\n      <td>2.590000e+02</td>\n    </tr>\n    <tr>\n      <th>mean</th>\n      <td>0.115830</td>\n      <td>0.123552</td>\n      <td>0.150579</td>\n      <td>0.162162</td>\n      <td>0.216216</td>\n      <td>0.250965</td>\n      <td>0.416988</td>\n      <td>0.490347</td>\n      <td>0.559846</td>\n      <td>0.868726</td>\n      <td>...</td>\n      <td>2.733076e+05</td>\n      <td>2.745115e+05</td>\n      <td>2.759192e+05</td>\n      <td>2.770977e+05</td>\n      <td>2.783671e+05</td>\n      <td>2.795426e+05</td>\n      <td>2.808215e+05</td>\n      <td>2.822830e+05</td>\n      <td>2.835970e+05</td>\n      <td>2.848085e+05</td>\n    </tr>\n    <tr>\n      <th>std</th>\n      <td>1.743788</td>\n      <td>1.747697</td>\n      <td>1.940118</td>\n      <td>2.005022</td>\n      <td>2.641273</td>\n      <td>2.839838</td>\n      <td>5.005023</td>\n      <td>5.505010</td>\n      <td>5.665010</td>\n      <td>8.868885</td>\n      <td>...</td>\n      <td>1.071255e+06</td>\n      <td>1.075752e+06</td>\n      <td>1.080969e+06</td>\n      <td>1.085416e+06</td>\n      <td>1.089808e+06</td>\n      <td>1.093001e+06</td>\n      <td>1.098028e+06</td>\n      <td>1.104350e+06</td>\n      <td>1.109635e+06</td>\n      <td>1.113932e+06</td>\n    </tr>\n    <tr>\n      <th>min</th>\n      <td>0.000000</td>\n      <td>0.000000</td>\n      <td>0.000000</td>\n      <td>0.000000</td>\n      <td>0.000000</td>\n      <td>0.000000</td>\n      <td>0.000000</td>\n      <td>0.000000</td>\n      <td>0.000000</td>\n      <td>0.000000</td>\n      <td>...</td>\n      <td>0.000000e+00</td>\n      <td>0.000000e+00</td>\n      <td>0.000000e+00</td>\n      <td>0.000000e+00</td>\n      <td>0.000000e+00</td>\n      <td>0.000000e+00</td>\n      <td>0.000000e+00</td>\n      <td>0.000000e+00</td>\n      <td>0.000000e+00</td>\n      <td>0.000000e+00</td>\n    </tr>\n    <tr>\n      <th>25%</th>\n      <td>0.000000</td>\n      <td>0.000000</td>\n      <td>0.000000</td>\n      <td>0.000000</td>\n      <td>0.000000</td>\n      <td>0.000000</td>\n      <td>0.000000</td>\n      <td>0.000000</td>\n      <td>0.000000</td>\n      <td>0.000000</td>\n      <td>...</td>\n      <td>8.540000e+02</td>\n      <td>8.565000e+02</td>\n      <td>8.565000e+02</td>\n      <td>8.645000e+02</td>\n      <td>8.645000e+02</td>\n      <td>8.645000e+02</td>\n      <td>8.645000e+02</td>\n      <td>8.655000e+02</td>\n      <td>8.655000e+02</td>\n      <td>8.660000e+02</td>\n    </tr>\n    <tr>\n      <th>50%</th>\n      <td>0.000000</td>\n      <td>0.000000</td>\n      <td>0.000000</td>\n      <td>0.000000</td>\n      <td>0.000000</td>\n      <td>0.000000</td>\n      <td>0.000000</td>\n      <td>0.000000</td>\n      <td>0.000000</td>\n      <td>0.000000</td>\n      <td>...</td>\n      <td>9.002000e+03</td>\n      <td>9.330000e+03</td>\n      <td>9.330000e+03</td>\n      <td>9.391000e+03</td>\n      <td>9.454000e+03</td>\n      <td>9.594000e+03</td>\n      <td>9.594000e+03</td>\n      <td>9.668000e+03</td>\n      <td>9.710000e+03</td>\n      <td>9.749000e+03</td>\n    </tr>\n    <tr>\n      <th>75%</th>\n      <td>0.000000</td>\n      <td>0.000000</td>\n      <td>0.000000</td>\n      <td>0.000000</td>\n      <td>0.000000</td>\n      <td>0.000000</td>\n      <td>0.000000</td>\n      <td>0.000000</td>\n      <td>0.000000</td>\n      <td>0.000000</td>\n      <td>...</td>\n      <td>1.418970e+05</td>\n      <td>1.427710e+05</td>\n      <td>1.435825e+05</td>\n      <td>1.439630e+05</td>\n      <td>1.451285e+05</td>\n      <td>1.460390e+05</td>\n      <td>1.468215e+05</td>\n      <td>1.474965e+05</td>\n      <td>1.482600e+05</td>\n      <td>1.488735e+05</td>\n    </tr>\n    <tr>\n      <th>max</th>\n      <td>28.000000</td>\n      <td>28.000000</td>\n      <td>31.000000</td>\n      <td>32.000000</td>\n      <td>42.000000</td>\n      <td>45.000000</td>\n      <td>80.000000</td>\n      <td>88.000000</td>\n      <td>90.000000</td>\n      <td>141.000000</td>\n      <td>...</td>\n      <td>1.123165e+07</td>\n      <td>1.126464e+07</td>\n      <td>1.129502e+07</td>\n      <td>1.132376e+07</td>\n      <td>1.135599e+07</td>\n      <td>1.139302e+07</td>\n      <td>1.143430e+07</td>\n      <td>1.147468e+07</td>\n      <td>1.152504e+07</td>\n      <td>1.156924e+07</td>\n    </tr>\n  </tbody>\n</table>\n<p>8 rows × 437 columns</p>\n</div>"
     },
     "metadata": {},
     "execution_count": 13
    }
   ],
   "source": [
    "print(\"Statistics for global recovered cases:\")\n",
    "global_recovered.drop(['Lat', 'Long'], axis=1).describe()"
   ]
  },
  {
   "source": [
    "## US Confirmed Cases\n",
    "### The following shows the first 5 entries of the US confirmed cases dataframe, info about the US confirmed cases dataframe, and summary statistics of the US confirmed cases dataframe"
   ],
   "cell_type": "markdown",
   "metadata": {}
  },
  {
   "cell_type": "code",
   "execution_count": 14,
   "metadata": {},
   "outputs": [
    {
     "output_type": "stream",
     "name": "stdout",
     "text": [
      "Head of US confirmed cases:\n"
     ]
    },
    {
     "output_type": "execute_result",
     "data": {
      "text/plain": [
       "        UID iso2 iso3  code3    FIPS   Admin2 Province_State Country_Region  \\\n",
       "0  84001001   US  USA    840  1001.0  Autauga        Alabama             US   \n",
       "1  84001003   US  USA    840  1003.0  Baldwin        Alabama             US   \n",
       "2  84001005   US  USA    840  1005.0  Barbour        Alabama             US   \n",
       "3  84001007   US  USA    840  1007.0     Bibb        Alabama             US   \n",
       "4  84001009   US  USA    840  1009.0   Blount        Alabama             US   \n",
       "\n",
       "         Lat      Long_  ... 3/24/21  3/25/21  3/26/21  3/27/21  3/28/21  \\\n",
       "0  32.539527 -86.644082  ...    6533     6540     6543     6562     6570   \n",
       "1  30.727750 -87.722071  ...   20395    20417    20423    20453    20473   \n",
       "2  31.868263 -85.387129  ...    2216     2218     2221     2224     2226   \n",
       "3  32.996421 -87.125115  ...    2535     2534     2535     2535     2536   \n",
       "4  33.982109 -86.567906  ...    6402     6408     6415     6420     6424   \n",
       "\n",
       "   3/29/21  3/30/21  3/31/21  4/1/21  4/2/21  \n",
       "0     6577     6580     6589    6595    6606  \n",
       "1    20487    20492    20505   20523   20519  \n",
       "2     2226     2227     2227    2227    2228  \n",
       "3     2536     2537     2542    2543    2544  \n",
       "4     6426     6443     6444    6446    6455  \n",
       "\n",
       "[5 rows x 448 columns]"
      ],
      "text/html": "<div>\n<style scoped>\n    .dataframe tbody tr th:only-of-type {\n        vertical-align: middle;\n    }\n\n    .dataframe tbody tr th {\n        vertical-align: top;\n    }\n\n    .dataframe thead th {\n        text-align: right;\n    }\n</style>\n<table border=\"1\" class=\"dataframe\">\n  <thead>\n    <tr style=\"text-align: right;\">\n      <th></th>\n      <th>UID</th>\n      <th>iso2</th>\n      <th>iso3</th>\n      <th>code3</th>\n      <th>FIPS</th>\n      <th>Admin2</th>\n      <th>Province_State</th>\n      <th>Country_Region</th>\n      <th>Lat</th>\n      <th>Long_</th>\n      <th>...</th>\n      <th>3/24/21</th>\n      <th>3/25/21</th>\n      <th>3/26/21</th>\n      <th>3/27/21</th>\n      <th>3/28/21</th>\n      <th>3/29/21</th>\n      <th>3/30/21</th>\n      <th>3/31/21</th>\n      <th>4/1/21</th>\n      <th>4/2/21</th>\n    </tr>\n  </thead>\n  <tbody>\n    <tr>\n      <th>0</th>\n      <td>84001001</td>\n      <td>US</td>\n      <td>USA</td>\n      <td>840</td>\n      <td>1001.0</td>\n      <td>Autauga</td>\n      <td>Alabama</td>\n      <td>US</td>\n      <td>32.539527</td>\n      <td>-86.644082</td>\n      <td>...</td>\n      <td>6533</td>\n      <td>6540</td>\n      <td>6543</td>\n      <td>6562</td>\n      <td>6570</td>\n      <td>6577</td>\n      <td>6580</td>\n      <td>6589</td>\n      <td>6595</td>\n      <td>6606</td>\n    </tr>\n    <tr>\n      <th>1</th>\n      <td>84001003</td>\n      <td>US</td>\n      <td>USA</td>\n      <td>840</td>\n      <td>1003.0</td>\n      <td>Baldwin</td>\n      <td>Alabama</td>\n      <td>US</td>\n      <td>30.727750</td>\n      <td>-87.722071</td>\n      <td>...</td>\n      <td>20395</td>\n      <td>20417</td>\n      <td>20423</td>\n      <td>20453</td>\n      <td>20473</td>\n      <td>20487</td>\n      <td>20492</td>\n      <td>20505</td>\n      <td>20523</td>\n      <td>20519</td>\n    </tr>\n    <tr>\n      <th>2</th>\n      <td>84001005</td>\n      <td>US</td>\n      <td>USA</td>\n      <td>840</td>\n      <td>1005.0</td>\n      <td>Barbour</td>\n      <td>Alabama</td>\n      <td>US</td>\n      <td>31.868263</td>\n      <td>-85.387129</td>\n      <td>...</td>\n      <td>2216</td>\n      <td>2218</td>\n      <td>2221</td>\n      <td>2224</td>\n      <td>2226</td>\n      <td>2226</td>\n      <td>2227</td>\n      <td>2227</td>\n      <td>2227</td>\n      <td>2228</td>\n    </tr>\n    <tr>\n      <th>3</th>\n      <td>84001007</td>\n      <td>US</td>\n      <td>USA</td>\n      <td>840</td>\n      <td>1007.0</td>\n      <td>Bibb</td>\n      <td>Alabama</td>\n      <td>US</td>\n      <td>32.996421</td>\n      <td>-87.125115</td>\n      <td>...</td>\n      <td>2535</td>\n      <td>2534</td>\n      <td>2535</td>\n      <td>2535</td>\n      <td>2536</td>\n      <td>2536</td>\n      <td>2537</td>\n      <td>2542</td>\n      <td>2543</td>\n      <td>2544</td>\n    </tr>\n    <tr>\n      <th>4</th>\n      <td>84001009</td>\n      <td>US</td>\n      <td>USA</td>\n      <td>840</td>\n      <td>1009.0</td>\n      <td>Blount</td>\n      <td>Alabama</td>\n      <td>US</td>\n      <td>33.982109</td>\n      <td>-86.567906</td>\n      <td>...</td>\n      <td>6402</td>\n      <td>6408</td>\n      <td>6415</td>\n      <td>6420</td>\n      <td>6424</td>\n      <td>6426</td>\n      <td>6443</td>\n      <td>6444</td>\n      <td>6446</td>\n      <td>6455</td>\n    </tr>\n  </tbody>\n</table>\n<p>5 rows × 448 columns</p>\n</div>"
     },
     "metadata": {},
     "execution_count": 14
    }
   ],
   "source": [
    "print(\"Head of US confirmed cases:\")\n",
    "us_confirmed.head()"
   ]
  },
  {
   "cell_type": "code",
   "execution_count": 15,
   "metadata": {},
   "outputs": [
    {
     "output_type": "stream",
     "name": "stdout",
     "text": [
      "Info about US confirmed cases dataframe:\n<class 'pandas.core.frame.DataFrame'>\nRangeIndex: 3342 entries, 0 to 3341\nColumns: 448 entries, UID to 4/2/21\ndtypes: float64(3), int64(439), object(6)\nmemory usage: 11.4+ MB\n"
     ]
    }
   ],
   "source": [
    "print(\"Info about US confirmed cases dataframe:\")\n",
    "us_confirmed.info()"
   ]
  },
  {
   "cell_type": "code",
   "execution_count": 23,
   "metadata": {},
   "outputs": [
    {
     "output_type": "stream",
     "name": "stdout",
     "text": [
      "Statistics for US confirmed cases:\n"
     ]
    },
    {
     "output_type": "execute_result",
     "data": {
      "text/plain": [
       "           1/22/20      1/23/20      1/24/20      1/25/20      1/26/20  \\\n",
       "count  3342.000000  3342.000000  3342.000000  3342.000000  3342.000000   \n",
       "mean      0.000299     0.000299     0.000598     0.000598     0.001496   \n",
       "std       0.017298     0.017298     0.024459     0.024459     0.038656   \n",
       "min       0.000000     0.000000     0.000000     0.000000     0.000000   \n",
       "25%       0.000000     0.000000     0.000000     0.000000     0.000000   \n",
       "50%       0.000000     0.000000     0.000000     0.000000     0.000000   \n",
       "75%       0.000000     0.000000     0.000000     0.000000     0.000000   \n",
       "max       1.000000     1.000000     1.000000     1.000000     1.000000   \n",
       "\n",
       "           1/27/20      1/28/20      1/29/20      1/30/20      1/31/20  ...  \\\n",
       "count  3342.000000  3342.000000  3342.000000  3342.000000  3342.000000  ...   \n",
       "mean      0.001496     0.001496     0.001795     0.001795     0.002394  ...   \n",
       "std       0.038656     0.038656     0.042340     0.042340     0.054657  ...   \n",
       "min       0.000000     0.000000     0.000000     0.000000     0.000000  ...   \n",
       "25%       0.000000     0.000000     0.000000     0.000000     0.000000  ...   \n",
       "50%       0.000000     0.000000     0.000000     0.000000     0.000000  ...   \n",
       "75%       0.000000     0.000000     0.000000     0.000000     0.000000  ...   \n",
       "max       1.000000     1.000000     1.000000     1.000000     2.000000  ...   \n",
       "\n",
       "            3/24/21       3/25/21       3/26/21       3/27/21       3/28/21  \\\n",
       "count  3.342000e+03  3.342000e+03  3.342000e+03  3.342000e+03  3.342000e+03   \n",
       "mean   8.980433e+03  9.000616e+03  9.023750e+03  9.042325e+03  9.055399e+03   \n",
       "std    3.364810e+04  3.369497e+04  3.375406e+04  3.380516e+04  3.384944e+04   \n",
       "min    0.000000e+00  0.000000e+00  0.000000e+00  0.000000e+00  0.000000e+00   \n",
       "25%    8.522500e+02  8.560000e+02  8.572500e+02  8.582500e+02  8.592500e+02   \n",
       "50%    2.185000e+03  2.187500e+03  2.189500e+03  2.198000e+03  2.201000e+03   \n",
       "75%    5.661000e+03  5.664000e+03  5.673500e+03  5.673500e+03  5.684250e+03   \n",
       "max    1.215772e+06  1.216319e+06  1.217116e+06  1.217775e+06  1.218229e+06   \n",
       "\n",
       "            3/29/21       3/30/21       3/31/21        4/1/21        4/2/21  \n",
       "count  3.342000e+03  3.342000e+03  3.342000e+03  3.342000e+03  3.342000e+03  \n",
       "mean   9.076171e+03  9.094496e+03  9.114552e+03  9.138201e+03  9.159093e+03  \n",
       "std    3.389886e+04  3.394123e+04  3.399116e+04  3.404889e+04  3.410253e+04  \n",
       "min    0.000000e+00  0.000000e+00  0.000000e+00  0.000000e+00  0.000000e+00  \n",
       "25%    8.605000e+02  8.622500e+02  8.630000e+02  8.650000e+02  8.662500e+02  \n",
       "50%    2.207000e+03  2.208000e+03  2.210500e+03  2.213000e+03  2.215000e+03  \n",
       "75%    5.691750e+03  5.693000e+03  5.727250e+03  5.739000e+03  5.742250e+03  \n",
       "max    1.218643e+06  1.219029e+06  1.219614e+06  1.220256e+06  1.220893e+06  \n",
       "\n",
       "[8 rows x 437 columns]"
      ],
      "text/html": "<div>\n<style scoped>\n    .dataframe tbody tr th:only-of-type {\n        vertical-align: middle;\n    }\n\n    .dataframe tbody tr th {\n        vertical-align: top;\n    }\n\n    .dataframe thead th {\n        text-align: right;\n    }\n</style>\n<table border=\"1\" class=\"dataframe\">\n  <thead>\n    <tr style=\"text-align: right;\">\n      <th></th>\n      <th>1/22/20</th>\n      <th>1/23/20</th>\n      <th>1/24/20</th>\n      <th>1/25/20</th>\n      <th>1/26/20</th>\n      <th>1/27/20</th>\n      <th>1/28/20</th>\n      <th>1/29/20</th>\n      <th>1/30/20</th>\n      <th>1/31/20</th>\n      <th>...</th>\n      <th>3/24/21</th>\n      <th>3/25/21</th>\n      <th>3/26/21</th>\n      <th>3/27/21</th>\n      <th>3/28/21</th>\n      <th>3/29/21</th>\n      <th>3/30/21</th>\n      <th>3/31/21</th>\n      <th>4/1/21</th>\n      <th>4/2/21</th>\n    </tr>\n  </thead>\n  <tbody>\n    <tr>\n      <th>count</th>\n      <td>3342.000000</td>\n      <td>3342.000000</td>\n      <td>3342.000000</td>\n      <td>3342.000000</td>\n      <td>3342.000000</td>\n      <td>3342.000000</td>\n      <td>3342.000000</td>\n      <td>3342.000000</td>\n      <td>3342.000000</td>\n      <td>3342.000000</td>\n      <td>...</td>\n      <td>3.342000e+03</td>\n      <td>3.342000e+03</td>\n      <td>3.342000e+03</td>\n      <td>3.342000e+03</td>\n      <td>3.342000e+03</td>\n      <td>3.342000e+03</td>\n      <td>3.342000e+03</td>\n      <td>3.342000e+03</td>\n      <td>3.342000e+03</td>\n      <td>3.342000e+03</td>\n    </tr>\n    <tr>\n      <th>mean</th>\n      <td>0.000299</td>\n      <td>0.000299</td>\n      <td>0.000598</td>\n      <td>0.000598</td>\n      <td>0.001496</td>\n      <td>0.001496</td>\n      <td>0.001496</td>\n      <td>0.001795</td>\n      <td>0.001795</td>\n      <td>0.002394</td>\n      <td>...</td>\n      <td>8.980433e+03</td>\n      <td>9.000616e+03</td>\n      <td>9.023750e+03</td>\n      <td>9.042325e+03</td>\n      <td>9.055399e+03</td>\n      <td>9.076171e+03</td>\n      <td>9.094496e+03</td>\n      <td>9.114552e+03</td>\n      <td>9.138201e+03</td>\n      <td>9.159093e+03</td>\n    </tr>\n    <tr>\n      <th>std</th>\n      <td>0.017298</td>\n      <td>0.017298</td>\n      <td>0.024459</td>\n      <td>0.024459</td>\n      <td>0.038656</td>\n      <td>0.038656</td>\n      <td>0.038656</td>\n      <td>0.042340</td>\n      <td>0.042340</td>\n      <td>0.054657</td>\n      <td>...</td>\n      <td>3.364810e+04</td>\n      <td>3.369497e+04</td>\n      <td>3.375406e+04</td>\n      <td>3.380516e+04</td>\n      <td>3.384944e+04</td>\n      <td>3.389886e+04</td>\n      <td>3.394123e+04</td>\n      <td>3.399116e+04</td>\n      <td>3.404889e+04</td>\n      <td>3.410253e+04</td>\n    </tr>\n    <tr>\n      <th>min</th>\n      <td>0.000000</td>\n      <td>0.000000</td>\n      <td>0.000000</td>\n      <td>0.000000</td>\n      <td>0.000000</td>\n      <td>0.000000</td>\n      <td>0.000000</td>\n      <td>0.000000</td>\n      <td>0.000000</td>\n      <td>0.000000</td>\n      <td>...</td>\n      <td>0.000000e+00</td>\n      <td>0.000000e+00</td>\n      <td>0.000000e+00</td>\n      <td>0.000000e+00</td>\n      <td>0.000000e+00</td>\n      <td>0.000000e+00</td>\n      <td>0.000000e+00</td>\n      <td>0.000000e+00</td>\n      <td>0.000000e+00</td>\n      <td>0.000000e+00</td>\n    </tr>\n    <tr>\n      <th>25%</th>\n      <td>0.000000</td>\n      <td>0.000000</td>\n      <td>0.000000</td>\n      <td>0.000000</td>\n      <td>0.000000</td>\n      <td>0.000000</td>\n      <td>0.000000</td>\n      <td>0.000000</td>\n      <td>0.000000</td>\n      <td>0.000000</td>\n      <td>...</td>\n      <td>8.522500e+02</td>\n      <td>8.560000e+02</td>\n      <td>8.572500e+02</td>\n      <td>8.582500e+02</td>\n      <td>8.592500e+02</td>\n      <td>8.605000e+02</td>\n      <td>8.622500e+02</td>\n      <td>8.630000e+02</td>\n      <td>8.650000e+02</td>\n      <td>8.662500e+02</td>\n    </tr>\n    <tr>\n      <th>50%</th>\n      <td>0.000000</td>\n      <td>0.000000</td>\n      <td>0.000000</td>\n      <td>0.000000</td>\n      <td>0.000000</td>\n      <td>0.000000</td>\n      <td>0.000000</td>\n      <td>0.000000</td>\n      <td>0.000000</td>\n      <td>0.000000</td>\n      <td>...</td>\n      <td>2.185000e+03</td>\n      <td>2.187500e+03</td>\n      <td>2.189500e+03</td>\n      <td>2.198000e+03</td>\n      <td>2.201000e+03</td>\n      <td>2.207000e+03</td>\n      <td>2.208000e+03</td>\n      <td>2.210500e+03</td>\n      <td>2.213000e+03</td>\n      <td>2.215000e+03</td>\n    </tr>\n    <tr>\n      <th>75%</th>\n      <td>0.000000</td>\n      <td>0.000000</td>\n      <td>0.000000</td>\n      <td>0.000000</td>\n      <td>0.000000</td>\n      <td>0.000000</td>\n      <td>0.000000</td>\n      <td>0.000000</td>\n      <td>0.000000</td>\n      <td>0.000000</td>\n      <td>...</td>\n      <td>5.661000e+03</td>\n      <td>5.664000e+03</td>\n      <td>5.673500e+03</td>\n      <td>5.673500e+03</td>\n      <td>5.684250e+03</td>\n      <td>5.691750e+03</td>\n      <td>5.693000e+03</td>\n      <td>5.727250e+03</td>\n      <td>5.739000e+03</td>\n      <td>5.742250e+03</td>\n    </tr>\n    <tr>\n      <th>max</th>\n      <td>1.000000</td>\n      <td>1.000000</td>\n      <td>1.000000</td>\n      <td>1.000000</td>\n      <td>1.000000</td>\n      <td>1.000000</td>\n      <td>1.000000</td>\n      <td>1.000000</td>\n      <td>1.000000</td>\n      <td>2.000000</td>\n      <td>...</td>\n      <td>1.215772e+06</td>\n      <td>1.216319e+06</td>\n      <td>1.217116e+06</td>\n      <td>1.217775e+06</td>\n      <td>1.218229e+06</td>\n      <td>1.218643e+06</td>\n      <td>1.219029e+06</td>\n      <td>1.219614e+06</td>\n      <td>1.220256e+06</td>\n      <td>1.220893e+06</td>\n    </tr>\n  </tbody>\n</table>\n<p>8 rows × 437 columns</p>\n</div>"
     },
     "metadata": {},
     "execution_count": 23
    }
   ],
   "source": [
    "print(\"Statistics for US confirmed cases:\")\n",
    "us_confirmed.drop(['Lat', 'Long_', 'UID', 'code3', 'FIPS'], axis=1).describe()"
   ]
  },
  {
   "source": [
    "## US Death Cases\n",
    "### The following shows the first 5 entries of the US death cases dataframe, info about the US death cases dataframe, and summary statistics of the US death cases dataframe"
   ],
   "cell_type": "markdown",
   "metadata": {}
  },
  {
   "cell_type": "code",
   "execution_count": 19,
   "metadata": {},
   "outputs": [
    {
     "output_type": "stream",
     "name": "stdout",
     "text": [
      "Head of US death cases:\n"
     ]
    },
    {
     "output_type": "execute_result",
     "data": {
      "text/plain": [
       "        UID iso2 iso3  code3    FIPS   Admin2 Province_State Country_Region  \\\n",
       "0  84001001   US  USA    840  1001.0  Autauga        Alabama             US   \n",
       "1  84001003   US  USA    840  1003.0  Baldwin        Alabama             US   \n",
       "2  84001005   US  USA    840  1005.0  Barbour        Alabama             US   \n",
       "3  84001007   US  USA    840  1007.0     Bibb        Alabama             US   \n",
       "4  84001009   US  USA    840  1009.0   Blount        Alabama             US   \n",
       "\n",
       "         Lat      Long_  ... 3/24/21  3/25/21  3/26/21  3/27/21  3/28/21  \\\n",
       "0  32.539527 -86.644082  ...      99       99       99       99       99   \n",
       "1  30.727750 -87.722071  ...     300      300      301      301      301   \n",
       "2  31.868263 -85.387129  ...      54       54       54       54       54   \n",
       "3  32.996421 -87.125115  ...      58       58       58       58       58   \n",
       "4  33.982109 -86.567906  ...     131      131      131      131      131   \n",
       "\n",
       "   3/29/21  3/30/21  3/31/21  4/1/21  4/2/21  \n",
       "0       99       99       99      99      99  \n",
       "1      301      301      301     301     301  \n",
       "2       54       54       55      55      55  \n",
       "3       58       58       58      58      58  \n",
       "4      131      131      131     131     132  \n",
       "\n",
       "[5 rows x 449 columns]"
      ],
      "text/html": "<div>\n<style scoped>\n    .dataframe tbody tr th:only-of-type {\n        vertical-align: middle;\n    }\n\n    .dataframe tbody tr th {\n        vertical-align: top;\n    }\n\n    .dataframe thead th {\n        text-align: right;\n    }\n</style>\n<table border=\"1\" class=\"dataframe\">\n  <thead>\n    <tr style=\"text-align: right;\">\n      <th></th>\n      <th>UID</th>\n      <th>iso2</th>\n      <th>iso3</th>\n      <th>code3</th>\n      <th>FIPS</th>\n      <th>Admin2</th>\n      <th>Province_State</th>\n      <th>Country_Region</th>\n      <th>Lat</th>\n      <th>Long_</th>\n      <th>...</th>\n      <th>3/24/21</th>\n      <th>3/25/21</th>\n      <th>3/26/21</th>\n      <th>3/27/21</th>\n      <th>3/28/21</th>\n      <th>3/29/21</th>\n      <th>3/30/21</th>\n      <th>3/31/21</th>\n      <th>4/1/21</th>\n      <th>4/2/21</th>\n    </tr>\n  </thead>\n  <tbody>\n    <tr>\n      <th>0</th>\n      <td>84001001</td>\n      <td>US</td>\n      <td>USA</td>\n      <td>840</td>\n      <td>1001.0</td>\n      <td>Autauga</td>\n      <td>Alabama</td>\n      <td>US</td>\n      <td>32.539527</td>\n      <td>-86.644082</td>\n      <td>...</td>\n      <td>99</td>\n      <td>99</td>\n      <td>99</td>\n      <td>99</td>\n      <td>99</td>\n      <td>99</td>\n      <td>99</td>\n      <td>99</td>\n      <td>99</td>\n      <td>99</td>\n    </tr>\n    <tr>\n      <th>1</th>\n      <td>84001003</td>\n      <td>US</td>\n      <td>USA</td>\n      <td>840</td>\n      <td>1003.0</td>\n      <td>Baldwin</td>\n      <td>Alabama</td>\n      <td>US</td>\n      <td>30.727750</td>\n      <td>-87.722071</td>\n      <td>...</td>\n      <td>300</td>\n      <td>300</td>\n      <td>301</td>\n      <td>301</td>\n      <td>301</td>\n      <td>301</td>\n      <td>301</td>\n      <td>301</td>\n      <td>301</td>\n      <td>301</td>\n    </tr>\n    <tr>\n      <th>2</th>\n      <td>84001005</td>\n      <td>US</td>\n      <td>USA</td>\n      <td>840</td>\n      <td>1005.0</td>\n      <td>Barbour</td>\n      <td>Alabama</td>\n      <td>US</td>\n      <td>31.868263</td>\n      <td>-85.387129</td>\n      <td>...</td>\n      <td>54</td>\n      <td>54</td>\n      <td>54</td>\n      <td>54</td>\n      <td>54</td>\n      <td>54</td>\n      <td>54</td>\n      <td>55</td>\n      <td>55</td>\n      <td>55</td>\n    </tr>\n    <tr>\n      <th>3</th>\n      <td>84001007</td>\n      <td>US</td>\n      <td>USA</td>\n      <td>840</td>\n      <td>1007.0</td>\n      <td>Bibb</td>\n      <td>Alabama</td>\n      <td>US</td>\n      <td>32.996421</td>\n      <td>-87.125115</td>\n      <td>...</td>\n      <td>58</td>\n      <td>58</td>\n      <td>58</td>\n      <td>58</td>\n      <td>58</td>\n      <td>58</td>\n      <td>58</td>\n      <td>58</td>\n      <td>58</td>\n      <td>58</td>\n    </tr>\n    <tr>\n      <th>4</th>\n      <td>84001009</td>\n      <td>US</td>\n      <td>USA</td>\n      <td>840</td>\n      <td>1009.0</td>\n      <td>Blount</td>\n      <td>Alabama</td>\n      <td>US</td>\n      <td>33.982109</td>\n      <td>-86.567906</td>\n      <td>...</td>\n      <td>131</td>\n      <td>131</td>\n      <td>131</td>\n      <td>131</td>\n      <td>131</td>\n      <td>131</td>\n      <td>131</td>\n      <td>131</td>\n      <td>131</td>\n      <td>132</td>\n    </tr>\n  </tbody>\n</table>\n<p>5 rows × 449 columns</p>\n</div>"
     },
     "metadata": {},
     "execution_count": 19
    }
   ],
   "source": [
    "print(\"Head of US death cases:\")\n",
    "us_death.head()"
   ]
  },
  {
   "cell_type": "code",
   "execution_count": 20,
   "metadata": {},
   "outputs": [
    {
     "output_type": "stream",
     "name": "stdout",
     "text": [
      "Info about US death cases dataframe:\n<class 'pandas.core.frame.DataFrame'>\nRangeIndex: 3342 entries, 0 to 3341\nColumns: 449 entries, UID to 4/2/21\ndtypes: float64(3), int64(440), object(6)\nmemory usage: 11.4+ MB\n"
     ]
    }
   ],
   "source": [
    "print(\"Info about US death cases dataframe:\")\n",
    "us_death.info()"
   ]
  },
  {
   "cell_type": "code",
   "execution_count": 25,
   "metadata": {},
   "outputs": [
    {
     "output_type": "stream",
     "name": "stdout",
     "text": [
      "Statistics for US death cases:\n"
     ]
    },
    {
     "output_type": "execute_result",
     "data": {
      "text/plain": [
       "         Population  1/22/20  1/23/20  1/24/20  1/25/20  1/26/20  1/27/20  \\\n",
       "count  3.342000e+03   3342.0   3342.0   3342.0   3342.0   3342.0   3342.0   \n",
       "mean   9.960357e+04      0.0      0.0      0.0      0.0      0.0      0.0   \n",
       "std    3.241661e+05      0.0      0.0      0.0      0.0      0.0      0.0   \n",
       "min    0.000000e+00      0.0      0.0      0.0      0.0      0.0      0.0   \n",
       "25%    9.917250e+03      0.0      0.0      0.0      0.0      0.0      0.0   \n",
       "50%    2.489150e+04      0.0      0.0      0.0      0.0      0.0      0.0   \n",
       "75%    6.497525e+04      0.0      0.0      0.0      0.0      0.0      0.0   \n",
       "max    1.003911e+07      0.0      0.0      0.0      0.0      0.0      0.0   \n",
       "\n",
       "       1/28/20  1/29/20  1/30/20  ...       3/24/21       3/25/21  \\\n",
       "count   3342.0   3342.0   3342.0  ...   3342.000000   3342.000000   \n",
       "mean       0.0      0.0      0.0  ...    163.223220    163.689707   \n",
       "std        0.0      0.0      0.0  ...    650.138376    651.938417   \n",
       "min        0.0      0.0      0.0  ...      0.000000      0.000000   \n",
       "25%        0.0      0.0      0.0  ...     14.000000     14.000000   \n",
       "50%        0.0      0.0      0.0  ...     41.000000     41.000000   \n",
       "75%        0.0      0.0      0.0  ...    101.000000    101.000000   \n",
       "max        0.0      0.0      0.0  ...  22965.000000  23022.000000   \n",
       "\n",
       "            3/26/21       3/27/21       3/28/21       3/29/21       3/30/21  \\\n",
       "count   3342.000000   3342.000000   3342.000000   3342.000000   3342.000000   \n",
       "mean     164.025135    164.246858    164.398564    164.608318    164.870138   \n",
       "std      653.198937    654.136463    654.974061    655.583610    656.293257   \n",
       "min        0.000000      0.000000      0.000000      0.000000      0.000000   \n",
       "25%       14.000000     14.000000     14.000000     14.000000     14.000000   \n",
       "50%       41.000000     42.000000     42.000000     42.000000     42.000000   \n",
       "75%      101.750000    101.750000    101.750000    102.000000    102.000000   \n",
       "max    23056.000000  23080.000000  23103.000000  23101.000000  23111.000000   \n",
       "\n",
       "            3/31/21        4/1/21        4/2/21  \n",
       "count   3342.000000   3342.000000   3342.000000  \n",
       "mean     165.192101    165.510473    165.799820  \n",
       "std      657.409255    658.745798    660.012395  \n",
       "min        0.000000      0.000000      0.000000  \n",
       "25%       14.000000     14.000000     14.000000  \n",
       "50%       42.000000     42.000000     42.000000  \n",
       "75%      102.000000    102.000000    102.000000  \n",
       "max    23144.000000  23191.000000  23236.000000  \n",
       "\n",
       "[8 rows x 438 columns]"
      ],
      "text/html": "<div>\n<style scoped>\n    .dataframe tbody tr th:only-of-type {\n        vertical-align: middle;\n    }\n\n    .dataframe tbody tr th {\n        vertical-align: top;\n    }\n\n    .dataframe thead th {\n        text-align: right;\n    }\n</style>\n<table border=\"1\" class=\"dataframe\">\n  <thead>\n    <tr style=\"text-align: right;\">\n      <th></th>\n      <th>Population</th>\n      <th>1/22/20</th>\n      <th>1/23/20</th>\n      <th>1/24/20</th>\n      <th>1/25/20</th>\n      <th>1/26/20</th>\n      <th>1/27/20</th>\n      <th>1/28/20</th>\n      <th>1/29/20</th>\n      <th>1/30/20</th>\n      <th>...</th>\n      <th>3/24/21</th>\n      <th>3/25/21</th>\n      <th>3/26/21</th>\n      <th>3/27/21</th>\n      <th>3/28/21</th>\n      <th>3/29/21</th>\n      <th>3/30/21</th>\n      <th>3/31/21</th>\n      <th>4/1/21</th>\n      <th>4/2/21</th>\n    </tr>\n  </thead>\n  <tbody>\n    <tr>\n      <th>count</th>\n      <td>3.342000e+03</td>\n      <td>3342.0</td>\n      <td>3342.0</td>\n      <td>3342.0</td>\n      <td>3342.0</td>\n      <td>3342.0</td>\n      <td>3342.0</td>\n      <td>3342.0</td>\n      <td>3342.0</td>\n      <td>3342.0</td>\n      <td>...</td>\n      <td>3342.000000</td>\n      <td>3342.000000</td>\n      <td>3342.000000</td>\n      <td>3342.000000</td>\n      <td>3342.000000</td>\n      <td>3342.000000</td>\n      <td>3342.000000</td>\n      <td>3342.000000</td>\n      <td>3342.000000</td>\n      <td>3342.000000</td>\n    </tr>\n    <tr>\n      <th>mean</th>\n      <td>9.960357e+04</td>\n      <td>0.0</td>\n      <td>0.0</td>\n      <td>0.0</td>\n      <td>0.0</td>\n      <td>0.0</td>\n      <td>0.0</td>\n      <td>0.0</td>\n      <td>0.0</td>\n      <td>0.0</td>\n      <td>...</td>\n      <td>163.223220</td>\n      <td>163.689707</td>\n      <td>164.025135</td>\n      <td>164.246858</td>\n      <td>164.398564</td>\n      <td>164.608318</td>\n      <td>164.870138</td>\n      <td>165.192101</td>\n      <td>165.510473</td>\n      <td>165.799820</td>\n    </tr>\n    <tr>\n      <th>std</th>\n      <td>3.241661e+05</td>\n      <td>0.0</td>\n      <td>0.0</td>\n      <td>0.0</td>\n      <td>0.0</td>\n      <td>0.0</td>\n      <td>0.0</td>\n      <td>0.0</td>\n      <td>0.0</td>\n      <td>0.0</td>\n      <td>...</td>\n      <td>650.138376</td>\n      <td>651.938417</td>\n      <td>653.198937</td>\n      <td>654.136463</td>\n      <td>654.974061</td>\n      <td>655.583610</td>\n      <td>656.293257</td>\n      <td>657.409255</td>\n      <td>658.745798</td>\n      <td>660.012395</td>\n    </tr>\n    <tr>\n      <th>min</th>\n      <td>0.000000e+00</td>\n      <td>0.0</td>\n      <td>0.0</td>\n      <td>0.0</td>\n      <td>0.0</td>\n      <td>0.0</td>\n      <td>0.0</td>\n      <td>0.0</td>\n      <td>0.0</td>\n      <td>0.0</td>\n      <td>...</td>\n      <td>0.000000</td>\n      <td>0.000000</td>\n      <td>0.000000</td>\n      <td>0.000000</td>\n      <td>0.000000</td>\n      <td>0.000000</td>\n      <td>0.000000</td>\n      <td>0.000000</td>\n      <td>0.000000</td>\n      <td>0.000000</td>\n    </tr>\n    <tr>\n      <th>25%</th>\n      <td>9.917250e+03</td>\n      <td>0.0</td>\n      <td>0.0</td>\n      <td>0.0</td>\n      <td>0.0</td>\n      <td>0.0</td>\n      <td>0.0</td>\n      <td>0.0</td>\n      <td>0.0</td>\n      <td>0.0</td>\n      <td>...</td>\n      <td>14.000000</td>\n      <td>14.000000</td>\n      <td>14.000000</td>\n      <td>14.000000</td>\n      <td>14.000000</td>\n      <td>14.000000</td>\n      <td>14.000000</td>\n      <td>14.000000</td>\n      <td>14.000000</td>\n      <td>14.000000</td>\n    </tr>\n    <tr>\n      <th>50%</th>\n      <td>2.489150e+04</td>\n      <td>0.0</td>\n      <td>0.0</td>\n      <td>0.0</td>\n      <td>0.0</td>\n      <td>0.0</td>\n      <td>0.0</td>\n      <td>0.0</td>\n      <td>0.0</td>\n      <td>0.0</td>\n      <td>...</td>\n      <td>41.000000</td>\n      <td>41.000000</td>\n      <td>41.000000</td>\n      <td>42.000000</td>\n      <td>42.000000</td>\n      <td>42.000000</td>\n      <td>42.000000</td>\n      <td>42.000000</td>\n      <td>42.000000</td>\n      <td>42.000000</td>\n    </tr>\n    <tr>\n      <th>75%</th>\n      <td>6.497525e+04</td>\n      <td>0.0</td>\n      <td>0.0</td>\n      <td>0.0</td>\n      <td>0.0</td>\n      <td>0.0</td>\n      <td>0.0</td>\n      <td>0.0</td>\n      <td>0.0</td>\n      <td>0.0</td>\n      <td>...</td>\n      <td>101.000000</td>\n      <td>101.000000</td>\n      <td>101.750000</td>\n      <td>101.750000</td>\n      <td>101.750000</td>\n      <td>102.000000</td>\n      <td>102.000000</td>\n      <td>102.000000</td>\n      <td>102.000000</td>\n      <td>102.000000</td>\n    </tr>\n    <tr>\n      <th>max</th>\n      <td>1.003911e+07</td>\n      <td>0.0</td>\n      <td>0.0</td>\n      <td>0.0</td>\n      <td>0.0</td>\n      <td>0.0</td>\n      <td>0.0</td>\n      <td>0.0</td>\n      <td>0.0</td>\n      <td>0.0</td>\n      <td>...</td>\n      <td>22965.000000</td>\n      <td>23022.000000</td>\n      <td>23056.000000</td>\n      <td>23080.000000</td>\n      <td>23103.000000</td>\n      <td>23101.000000</td>\n      <td>23111.000000</td>\n      <td>23144.000000</td>\n      <td>23191.000000</td>\n      <td>23236.000000</td>\n    </tr>\n  </tbody>\n</table>\n<p>8 rows × 438 columns</p>\n</div>"
     },
     "metadata": {},
     "execution_count": 25
    }
   ],
   "source": [
    "print(\"Statistics for US death cases:\")\n",
    "us_death.drop(['Lat', 'Long_', 'UID', 'code3', 'FIPS'], axis=1).describe()"
   ]
  },
  {
   "source": [
    "## Conclusion\n",
    "### The loaded data can be used to answer questions like:\n",
    "- How did the disease spread geographically\n",
    "- What locations have been hit the hardest by the disease, e.g., most deaths per population\n",
    "- Are cases likely to increase or decrease in the future"
   ],
   "cell_type": "markdown",
   "metadata": {}
  }
 ]
}